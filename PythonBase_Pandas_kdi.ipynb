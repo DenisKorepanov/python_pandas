{
 "cells": [
  {
   "cell_type": "markdown",
   "metadata": {},
   "source": [
    "# Задание 3. Pandas (HW)\n",
    "### Используя библиотеку pandas (или аналоги), проанализировать как можно больше характеристик, влияющих на успеваемость студентов.  \n",
    "Результат прислать в формате ссылки на Github с ноутбуком"
   ]
  },
  {
   "cell_type": "code",
   "execution_count": 3,
   "metadata": {},
   "outputs": [],
   "source": [
    "import numpy as np\n",
    "import pandas as pd\n",
    "import seaborn as sns\n",
    "import matplotlib.pyplot as plt"
   ]
  },
  {
   "cell_type": "markdown",
   "metadata": {},
   "source": [
    "## Анализ вспомогательных таблиц"
   ]
  },
  {
   "cell_type": "markdown",
   "metadata": {},
   "source": [
    "### lectures.csv : метаданные для лекций, просмотренных студентами по мере их обучения.\n",
    "\n",
    "**lecture_id**: внешний ключ для столбца content_type_id в train.csv, если тип контента - лекция (1).  \n",
    "**part**: раздел, к которому относится лекция.  \n",
    "**tag**: один тег для каждой лекции. Значения тегов не представлены, но их достаточно для кластеризации лекций.  \n",
    "**type_of**: краткое описание основной цели лекции."
   ]
  },
  {
   "cell_type": "code",
   "execution_count": 4,
   "metadata": {},
   "outputs": [
    {
     "data": {
      "text/plain": [
       "(418, 4)"
      ]
     },
     "execution_count": 4,
     "metadata": {},
     "output_type": "execute_result"
    }
   ],
   "source": [
    "lectures_df = pd.read_csv('lectures.csv', encoding = 'utf-8')\n",
    "lectures_df.shape"
   ]
  },
  {
   "cell_type": "code",
   "execution_count": 5,
   "metadata": {},
   "outputs": [
    {
     "data": {
      "text/html": [
       "<div>\n",
       "<style scoped>\n",
       "    .dataframe tbody tr th:only-of-type {\n",
       "        vertical-align: middle;\n",
       "    }\n",
       "\n",
       "    .dataframe tbody tr th {\n",
       "        vertical-align: top;\n",
       "    }\n",
       "\n",
       "    .dataframe thead th {\n",
       "        text-align: right;\n",
       "    }\n",
       "</style>\n",
       "<table border=\"1\" class=\"dataframe\">\n",
       "  <thead>\n",
       "    <tr style=\"text-align: right;\">\n",
       "      <th></th>\n",
       "      <th>lecture_id</th>\n",
       "      <th>tag</th>\n",
       "      <th>part</th>\n",
       "      <th>type_of</th>\n",
       "    </tr>\n",
       "  </thead>\n",
       "  <tbody>\n",
       "    <tr>\n",
       "      <th>0</th>\n",
       "      <td>89</td>\n",
       "      <td>159</td>\n",
       "      <td>5</td>\n",
       "      <td>concept</td>\n",
       "    </tr>\n",
       "    <tr>\n",
       "      <th>1</th>\n",
       "      <td>100</td>\n",
       "      <td>70</td>\n",
       "      <td>1</td>\n",
       "      <td>concept</td>\n",
       "    </tr>\n",
       "    <tr>\n",
       "      <th>2</th>\n",
       "      <td>185</td>\n",
       "      <td>45</td>\n",
       "      <td>6</td>\n",
       "      <td>concept</td>\n",
       "    </tr>\n",
       "    <tr>\n",
       "      <th>3</th>\n",
       "      <td>192</td>\n",
       "      <td>79</td>\n",
       "      <td>5</td>\n",
       "      <td>solving question</td>\n",
       "    </tr>\n",
       "    <tr>\n",
       "      <th>4</th>\n",
       "      <td>317</td>\n",
       "      <td>156</td>\n",
       "      <td>5</td>\n",
       "      <td>solving question</td>\n",
       "    </tr>\n",
       "  </tbody>\n",
       "</table>\n",
       "</div>"
      ],
      "text/plain": [
       "   lecture_id  tag  part           type_of\n",
       "0          89  159     5           concept\n",
       "1         100   70     1           concept\n",
       "2         185   45     6           concept\n",
       "3         192   79     5  solving question\n",
       "4         317  156     5  solving question"
      ]
     },
     "execution_count": 5,
     "metadata": {},
     "output_type": "execute_result"
    }
   ],
   "source": [
    "lectures_df.head()"
   ]
  },
  {
   "cell_type": "markdown",
   "metadata": {},
   "source": [
    "##### Выводим статистику по числовым признакам датафрейма df_lectures c помощью метода .describe"
   ]
  },
  {
   "cell_type": "code",
   "execution_count": 6,
   "metadata": {},
   "outputs": [
    {
     "data": {
      "text/html": [
       "<div>\n",
       "<style scoped>\n",
       "    .dataframe tbody tr th:only-of-type {\n",
       "        vertical-align: middle;\n",
       "    }\n",
       "\n",
       "    .dataframe tbody tr th {\n",
       "        vertical-align: top;\n",
       "    }\n",
       "\n",
       "    .dataframe thead th {\n",
       "        text-align: right;\n",
       "    }\n",
       "</style>\n",
       "<table border=\"1\" class=\"dataframe\">\n",
       "  <thead>\n",
       "    <tr style=\"text-align: right;\">\n",
       "      <th></th>\n",
       "      <th>lecture_id</th>\n",
       "      <th>tag</th>\n",
       "      <th>part</th>\n",
       "    </tr>\n",
       "  </thead>\n",
       "  <tbody>\n",
       "    <tr>\n",
       "      <th>count</th>\n",
       "      <td>418.000000</td>\n",
       "      <td>418.000000</td>\n",
       "      <td>418.000000</td>\n",
       "    </tr>\n",
       "    <tr>\n",
       "      <th>mean</th>\n",
       "      <td>16983.401914</td>\n",
       "      <td>94.480861</td>\n",
       "      <td>4.267943</td>\n",
       "    </tr>\n",
       "    <tr>\n",
       "      <th>std</th>\n",
       "      <td>9426.164660</td>\n",
       "      <td>53.586487</td>\n",
       "      <td>1.872424</td>\n",
       "    </tr>\n",
       "    <tr>\n",
       "      <th>min</th>\n",
       "      <td>89.000000</td>\n",
       "      <td>0.000000</td>\n",
       "      <td>1.000000</td>\n",
       "    </tr>\n",
       "    <tr>\n",
       "      <th>25%</th>\n",
       "      <td>9026.250000</td>\n",
       "      <td>50.250000</td>\n",
       "      <td>2.000000</td>\n",
       "    </tr>\n",
       "    <tr>\n",
       "      <th>50%</th>\n",
       "      <td>17161.500000</td>\n",
       "      <td>94.500000</td>\n",
       "      <td>5.000000</td>\n",
       "    </tr>\n",
       "    <tr>\n",
       "      <th>75%</th>\n",
       "      <td>24906.250000</td>\n",
       "      <td>140.000000</td>\n",
       "      <td>6.000000</td>\n",
       "    </tr>\n",
       "    <tr>\n",
       "      <th>max</th>\n",
       "      <td>32736.000000</td>\n",
       "      <td>187.000000</td>\n",
       "      <td>7.000000</td>\n",
       "    </tr>\n",
       "  </tbody>\n",
       "</table>\n",
       "</div>"
      ],
      "text/plain": [
       "         lecture_id         tag        part\n",
       "count    418.000000  418.000000  418.000000\n",
       "mean   16983.401914   94.480861    4.267943\n",
       "std     9426.164660   53.586487    1.872424\n",
       "min       89.000000    0.000000    1.000000\n",
       "25%     9026.250000   50.250000    2.000000\n",
       "50%    17161.500000   94.500000    5.000000\n",
       "75%    24906.250000  140.000000    6.000000\n",
       "max    32736.000000  187.000000    7.000000"
      ]
     },
     "execution_count": 6,
     "metadata": {},
     "output_type": "execute_result"
    }
   ],
   "source": [
    "lectures_df.describe() "
   ]
  },
  {
   "cell_type": "markdown",
   "metadata": {},
   "source": [
    "##### Ищем пропуски в датафрейме df_lectures"
   ]
  },
  {
   "cell_type": "code",
   "execution_count": 7,
   "metadata": {},
   "outputs": [
    {
     "data": {
      "text/plain": [
       "lecture_id    0\n",
       "tag           0\n",
       "part          0\n",
       "type_of       0\n",
       "dtype: int64"
      ]
     },
     "execution_count": 7,
     "metadata": {},
     "output_type": "execute_result"
    }
   ],
   "source": [
    "lectures_df.isna().sum() "
   ]
  },
  {
   "cell_type": "markdown",
   "metadata": {},
   "source": [
    "##### Как мы можем увидеть пропуски в датафрейме student_df равны 0, то есть - отсутствуют\n",
    "\n",
    "##### Теперь перейдем к поиску дубликатов в нашем датафрейм"
   ]
  },
  {
   "cell_type": "code",
   "execution_count": 8,
   "metadata": {},
   "outputs": [
    {
     "data": {
      "text/plain": [
       "0"
      ]
     },
     "execution_count": 8,
     "metadata": {},
     "output_type": "execute_result"
    }
   ],
   "source": [
    "lectures_df.duplicated().sum()"
   ]
  },
  {
   "cell_type": "markdown",
   "metadata": {},
   "source": [
    "##### Выводим справку о кол-ве значений в каждом столбце и типе данных нашего датафрейма "
   ]
  },
  {
   "cell_type": "code",
   "execution_count": 9,
   "metadata": {},
   "outputs": [
    {
     "name": "stdout",
     "output_type": "stream",
     "text": [
      "<class 'pandas.core.frame.DataFrame'>\n",
      "RangeIndex: 418 entries, 0 to 417\n",
      "Data columns (total 4 columns):\n",
      " #   Column      Non-Null Count  Dtype \n",
      "---  ------      --------------  ----- \n",
      " 0   lecture_id  418 non-null    int64 \n",
      " 1   tag         418 non-null    int64 \n",
      " 2   part        418 non-null    int64 \n",
      " 3   type_of     418 non-null    object\n",
      "dtypes: int64(3), object(1)\n",
      "memory usage: 13.2+ KB\n"
     ]
    }
   ],
   "source": [
    "lectures_df.info()"
   ]
  },
  {
   "cell_type": "markdown",
   "metadata": {},
   "source": [
    "##### Выводим распеределение внешних ключей по различным разделам лекций"
   ]
  },
  {
   "cell_type": "code",
   "execution_count": 10,
   "metadata": {},
   "outputs": [
    {
     "data": {
      "text/html": [
       "<div>\n",
       "<style scoped>\n",
       "    .dataframe tbody tr th:only-of-type {\n",
       "        vertical-align: middle;\n",
       "    }\n",
       "\n",
       "    .dataframe tbody tr th {\n",
       "        vertical-align: top;\n",
       "    }\n",
       "\n",
       "    .dataframe thead th {\n",
       "        text-align: right;\n",
       "    }\n",
       "</style>\n",
       "<table border=\"1\" class=\"dataframe\">\n",
       "  <thead>\n",
       "    <tr style=\"text-align: right;\">\n",
       "      <th></th>\n",
       "      <th>type_of</th>\n",
       "      <th>part</th>\n",
       "      <th>lecture_id</th>\n",
       "    </tr>\n",
       "  </thead>\n",
       "  <tbody>\n",
       "    <tr>\n",
       "      <th>0</th>\n",
       "      <td>concept</td>\n",
       "      <td>1</td>\n",
       "      <td>20</td>\n",
       "    </tr>\n",
       "    <tr>\n",
       "      <th>1</th>\n",
       "      <td>concept</td>\n",
       "      <td>2</td>\n",
       "      <td>18</td>\n",
       "    </tr>\n",
       "    <tr>\n",
       "      <th>2</th>\n",
       "      <td>concept</td>\n",
       "      <td>3</td>\n",
       "      <td>7</td>\n",
       "    </tr>\n",
       "    <tr>\n",
       "      <th>3</th>\n",
       "      <td>concept</td>\n",
       "      <td>4</td>\n",
       "      <td>19</td>\n",
       "    </tr>\n",
       "    <tr>\n",
       "      <th>4</th>\n",
       "      <td>concept</td>\n",
       "      <td>5</td>\n",
       "      <td>72</td>\n",
       "    </tr>\n",
       "    <tr>\n",
       "      <th>5</th>\n",
       "      <td>concept</td>\n",
       "      <td>6</td>\n",
       "      <td>63</td>\n",
       "    </tr>\n",
       "    <tr>\n",
       "      <th>6</th>\n",
       "      <td>concept</td>\n",
       "      <td>7</td>\n",
       "      <td>23</td>\n",
       "    </tr>\n",
       "    <tr>\n",
       "      <th>7</th>\n",
       "      <td>intention</td>\n",
       "      <td>2</td>\n",
       "      <td>7</td>\n",
       "    </tr>\n",
       "    <tr>\n",
       "      <th>8</th>\n",
       "      <td>solving question</td>\n",
       "      <td>1</td>\n",
       "      <td>34</td>\n",
       "    </tr>\n",
       "    <tr>\n",
       "      <th>9</th>\n",
       "      <td>solving question</td>\n",
       "      <td>2</td>\n",
       "      <td>31</td>\n",
       "    </tr>\n",
       "    <tr>\n",
       "      <th>10</th>\n",
       "      <td>solving question</td>\n",
       "      <td>3</td>\n",
       "      <td>12</td>\n",
       "    </tr>\n",
       "    <tr>\n",
       "      <th>11</th>\n",
       "      <td>solving question</td>\n",
       "      <td>4</td>\n",
       "      <td>12</td>\n",
       "    </tr>\n",
       "    <tr>\n",
       "      <th>12</th>\n",
       "      <td>solving question</td>\n",
       "      <td>5</td>\n",
       "      <td>69</td>\n",
       "    </tr>\n",
       "    <tr>\n",
       "      <th>13</th>\n",
       "      <td>solving question</td>\n",
       "      <td>6</td>\n",
       "      <td>19</td>\n",
       "    </tr>\n",
       "    <tr>\n",
       "      <th>14</th>\n",
       "      <td>solving question</td>\n",
       "      <td>7</td>\n",
       "      <td>9</td>\n",
       "    </tr>\n",
       "    <tr>\n",
       "      <th>15</th>\n",
       "      <td>starter</td>\n",
       "      <td>5</td>\n",
       "      <td>2</td>\n",
       "    </tr>\n",
       "    <tr>\n",
       "      <th>16</th>\n",
       "      <td>starter</td>\n",
       "      <td>6</td>\n",
       "      <td>1</td>\n",
       "    </tr>\n",
       "  </tbody>\n",
       "</table>\n",
       "</div>"
      ],
      "text/plain": [
       "             type_of  part  lecture_id\n",
       "0            concept     1          20\n",
       "1            concept     2          18\n",
       "2            concept     3           7\n",
       "3            concept     4          19\n",
       "4            concept     5          72\n",
       "5            concept     6          63\n",
       "6            concept     7          23\n",
       "7          intention     2           7\n",
       "8   solving question     1          34\n",
       "9   solving question     2          31\n",
       "10  solving question     3          12\n",
       "11  solving question     4          12\n",
       "12  solving question     5          69\n",
       "13  solving question     6          19\n",
       "14  solving question     7           9\n",
       "15           starter     5           2\n",
       "16           starter     6           1"
      ]
     },
     "execution_count": 10,
     "metadata": {},
     "output_type": "execute_result"
    }
   ],
   "source": [
    "lectures_df[['type_of', 'part', 'lecture_id']].groupby(['type_of','part'], as_index = False).count().sort_values(by = ['type_of', 'part'])"
   ]
  },
  {
   "cell_type": "markdown",
   "metadata": {},
   "source": [
    "##### Выводим распеределение тегов и разделов"
   ]
  },
  {
   "cell_type": "code",
   "execution_count": 11,
   "metadata": {},
   "outputs": [
    {
     "data": {
      "text/plain": [
       "<AxesSubplot: xlabel='part', ylabel='tag'>"
      ]
     },
     "execution_count": 11,
     "metadata": {},
     "output_type": "execute_result"
    },
    {
     "data": {
      "image/png": "[encoded data removed]",
      "text/plain": [
       "<Figure size 640x480 with 1 Axes>"
      ]
     },
     "metadata": {},
     "output_type": "display_data"
    }
   ],
   "source": [
    "sns.scatterplot(data = lectures_df, x = 'part', y = 'tag', hue = 'type_of')"
   ]
  },
  {
   "cell_type": "code",
   "execution_count": 12,
   "metadata": {},
   "outputs": [
    {
     "data": {
      "text/plain": [
       "<AxesSubplot: xlabel='tag', ylabel='Count'>"
      ]
     },
     "execution_count": 12,
     "metadata": {},
     "output_type": "execute_result"
    },
    {
     "data": {
      "image/png": "[encoded data removed]",
      "text/plain": [
       "<Figure size 640x480 with 1 Axes>"
      ]
     },
     "metadata": {},
     "output_type": "display_data"
    }
   ],
   "source": [
    "sns.histplot(data = lectures_df, x = 'tag', hue = 'type_of')"
   ]
  },
  {
   "cell_type": "markdown",
   "metadata": {},
   "source": [
    "##### И видим что явной связи тегов и описаний лекций и нет вовсе"
   ]
  },
  {
   "cell_type": "markdown",
   "metadata": {},
   "source": [
    "##### Тыперь проанализируем связь разделов и описаний лекций"
   ]
  },
  {
   "cell_type": "code",
   "execution_count": 13,
   "metadata": {},
   "outputs": [
    {
     "data": {
      "text/plain": [
       "<AxesSubplot: xlabel='part', ylabel='Count'>"
      ]
     },
     "execution_count": 13,
     "metadata": {},
     "output_type": "execute_result"
    },
    {
     "data": {
      "image/png": "[encoded data removed]",
      "text/plain": [
       "<Figure size 640x480 with 1 Axes>"
      ]
     },
     "metadata": {},
     "output_type": "display_data"
    }
   ],
   "source": [
    "sns.histplot(data = lectures_df, x = 'part', hue = 'type_of', bins = 7)"
   ]
  },
  {
   "cell_type": "markdown",
   "metadata": {},
   "source": [
    "##### В итоге: в первых 3-х разделах больше практики, в остальных - теории"
   ]
  },
  {
   "cell_type": "markdown",
   "metadata": {},
   "source": [
    "### questions.csv : метаданные для заданных студентам вопросов.\n",
    "\n",
    "**question_id**: внешний ключ для столбца content_type_id в train.csv, если тип контента - вопрос (0).  \n",
    "**bundle_id**: идентификатор совместного набора вопросов.  \n",
    "**correct_answer**: правильный ответ на вопрос. Можно сравнить со столбцом user_answer в train.csv, чтобы проверить, верно ли ответил студент.  \n",
    "**part**: соответствующий раздел теста TOEIC.  \n",
    "**tags**: один или несколько подробных тегов для каждого вопроса. Значения тегов не представлены, но их достаточно для кластеризации вопросов."
   ]
  },
  {
   "cell_type": "code",
   "execution_count": 14,
   "metadata": {},
   "outputs": [
    {
     "data": {
      "text/plain": [
       "(13523, 5)"
      ]
     },
     "execution_count": 14,
     "metadata": {},
     "output_type": "execute_result"
    }
   ],
   "source": [
    "questions_df = pd.read_csv('questions.csv') \n",
    "questions_df.shape"
   ]
  },
  {
   "cell_type": "markdown",
   "metadata": {},
   "source": [
    "#### Выводим строки датафрейма questions_df c помощью метода .head"
   ]
  },
  {
   "cell_type": "code",
   "execution_count": 15,
   "metadata": {},
   "outputs": [
    {
     "data": {
      "text/html": [
       "<div>\n",
       "<style scoped>\n",
       "    .dataframe tbody tr th:only-of-type {\n",
       "        vertical-align: middle;\n",
       "    }\n",
       "\n",
       "    .dataframe tbody tr th {\n",
       "        vertical-align: top;\n",
       "    }\n",
       "\n",
       "    .dataframe thead th {\n",
       "        text-align: right;\n",
       "    }\n",
       "</style>\n",
       "<table border=\"1\" class=\"dataframe\">\n",
       "  <thead>\n",
       "    <tr style=\"text-align: right;\">\n",
       "      <th></th>\n",
       "      <th>question_id</th>\n",
       "      <th>bundle_id</th>\n",
       "      <th>correct_answer</th>\n",
       "      <th>part</th>\n",
       "      <th>tags</th>\n",
       "    </tr>\n",
       "  </thead>\n",
       "  <tbody>\n",
       "    <tr>\n",
       "      <th>0</th>\n",
       "      <td>0</td>\n",
       "      <td>0</td>\n",
       "      <td>0</td>\n",
       "      <td>1</td>\n",
       "      <td>51 131 162 38</td>\n",
       "    </tr>\n",
       "    <tr>\n",
       "      <th>1</th>\n",
       "      <td>1</td>\n",
       "      <td>1</td>\n",
       "      <td>1</td>\n",
       "      <td>1</td>\n",
       "      <td>131 36 81</td>\n",
       "    </tr>\n",
       "    <tr>\n",
       "      <th>2</th>\n",
       "      <td>2</td>\n",
       "      <td>2</td>\n",
       "      <td>0</td>\n",
       "      <td>1</td>\n",
       "      <td>131 101 162 92</td>\n",
       "    </tr>\n",
       "    <tr>\n",
       "      <th>3</th>\n",
       "      <td>3</td>\n",
       "      <td>3</td>\n",
       "      <td>0</td>\n",
       "      <td>1</td>\n",
       "      <td>131 149 162 29</td>\n",
       "    </tr>\n",
       "    <tr>\n",
       "      <th>4</th>\n",
       "      <td>4</td>\n",
       "      <td>4</td>\n",
       "      <td>3</td>\n",
       "      <td>1</td>\n",
       "      <td>131 5 162 38</td>\n",
       "    </tr>\n",
       "  </tbody>\n",
       "</table>\n",
       "</div>"
      ],
      "text/plain": [
       "   question_id  bundle_id  correct_answer  part            tags\n",
       "0            0          0               0     1   51 131 162 38\n",
       "1            1          1               1     1       131 36 81\n",
       "2            2          2               0     1  131 101 162 92\n",
       "3            3          3               0     1  131 149 162 29\n",
       "4            4          4               3     1    131 5 162 38"
      ]
     },
     "execution_count": 15,
     "metadata": {},
     "output_type": "execute_result"
    }
   ],
   "source": [
    "questions_df.head() "
   ]
  },
  {
   "cell_type": "code",
   "execution_count": 16,
   "metadata": {},
   "outputs": [
    {
     "data": {
      "text/html": [
       "<div>\n",
       "<style scoped>\n",
       "    .dataframe tbody tr th:only-of-type {\n",
       "        vertical-align: middle;\n",
       "    }\n",
       "\n",
       "    .dataframe tbody tr th {\n",
       "        vertical-align: top;\n",
       "    }\n",
       "\n",
       "    .dataframe thead th {\n",
       "        text-align: right;\n",
       "    }\n",
       "</style>\n",
       "<table border=\"1\" class=\"dataframe\">\n",
       "  <thead>\n",
       "    <tr style=\"text-align: right;\">\n",
       "      <th></th>\n",
       "      <th>question_id</th>\n",
       "      <th>bundle_id</th>\n",
       "      <th>correct_answer</th>\n",
       "      <th>part</th>\n",
       "    </tr>\n",
       "  </thead>\n",
       "  <tbody>\n",
       "    <tr>\n",
       "      <th>count</th>\n",
       "      <td>13523.00000</td>\n",
       "      <td>13523.000000</td>\n",
       "      <td>13523.000000</td>\n",
       "      <td>13523.000000</td>\n",
       "    </tr>\n",
       "    <tr>\n",
       "      <th>mean</th>\n",
       "      <td>6761.00000</td>\n",
       "      <td>6760.510907</td>\n",
       "      <td>1.455298</td>\n",
       "      <td>4.264956</td>\n",
       "    </tr>\n",
       "    <tr>\n",
       "      <th>std</th>\n",
       "      <td>3903.89818</td>\n",
       "      <td>3903.857783</td>\n",
       "      <td>1.149707</td>\n",
       "      <td>1.652553</td>\n",
       "    </tr>\n",
       "    <tr>\n",
       "      <th>min</th>\n",
       "      <td>0.00000</td>\n",
       "      <td>0.000000</td>\n",
       "      <td>0.000000</td>\n",
       "      <td>1.000000</td>\n",
       "    </tr>\n",
       "    <tr>\n",
       "      <th>25%</th>\n",
       "      <td>3380.50000</td>\n",
       "      <td>3379.500000</td>\n",
       "      <td>0.000000</td>\n",
       "      <td>3.000000</td>\n",
       "    </tr>\n",
       "    <tr>\n",
       "      <th>50%</th>\n",
       "      <td>6761.00000</td>\n",
       "      <td>6761.000000</td>\n",
       "      <td>1.000000</td>\n",
       "      <td>5.000000</td>\n",
       "    </tr>\n",
       "    <tr>\n",
       "      <th>75%</th>\n",
       "      <td>10141.50000</td>\n",
       "      <td>10140.000000</td>\n",
       "      <td>3.000000</td>\n",
       "      <td>5.000000</td>\n",
       "    </tr>\n",
       "    <tr>\n",
       "      <th>max</th>\n",
       "      <td>13522.00000</td>\n",
       "      <td>13522.000000</td>\n",
       "      <td>3.000000</td>\n",
       "      <td>7.000000</td>\n",
       "    </tr>\n",
       "  </tbody>\n",
       "</table>\n",
       "</div>"
      ],
      "text/plain": [
       "       question_id     bundle_id  correct_answer          part\n",
       "count  13523.00000  13523.000000    13523.000000  13523.000000\n",
       "mean    6761.00000   6760.510907        1.455298      4.264956\n",
       "std     3903.89818   3903.857783        1.149707      1.652553\n",
       "min        0.00000      0.000000        0.000000      1.000000\n",
       "25%     3380.50000   3379.500000        0.000000      3.000000\n",
       "50%     6761.00000   6761.000000        1.000000      5.000000\n",
       "75%    10141.50000  10140.000000        3.000000      5.000000\n",
       "max    13522.00000  13522.000000        3.000000      7.000000"
      ]
     },
     "execution_count": 16,
     "metadata": {},
     "output_type": "execute_result"
    }
   ],
   "source": [
    "questions_df.describe()"
   ]
  },
  {
   "cell_type": "markdown",
   "metadata": {},
   "source": [
    "##### Поиск пропусков в датафрейме questions_df с помощью метода .isna() - есть 1 в столбце тегов"
   ]
  },
  {
   "cell_type": "code",
   "execution_count": 17,
   "metadata": {},
   "outputs": [
    {
     "data": {
      "text/plain": [
       "question_id       0\n",
       "bundle_id         0\n",
       "correct_answer    0\n",
       "part              0\n",
       "tags              1\n",
       "dtype: int64"
      ]
     },
     "execution_count": 17,
     "metadata": {},
     "output_type": "execute_result"
    }
   ],
   "source": [
    "questions_df.isna().sum() "
   ]
  },
  {
   "cell_type": "markdown",
   "metadata": {},
   "source": [
    "##### Поиск пропусков показал что есть один пропуск в столбце тегов\n",
    "##### Выведем информацию о том, где он находится"
   ]
  },
  {
   "cell_type": "code",
   "execution_count": 18,
   "metadata": {},
   "outputs": [
    {
     "data": {
      "text/html": [
       "<div>\n",
       "<style scoped>\n",
       "    .dataframe tbody tr th:only-of-type {\n",
       "        vertical-align: middle;\n",
       "    }\n",
       "\n",
       "    .dataframe tbody tr th {\n",
       "        vertical-align: top;\n",
       "    }\n",
       "\n",
       "    .dataframe thead th {\n",
       "        text-align: right;\n",
       "    }\n",
       "</style>\n",
       "<table border=\"1\" class=\"dataframe\">\n",
       "  <thead>\n",
       "    <tr style=\"text-align: right;\">\n",
       "      <th></th>\n",
       "      <th>question_id</th>\n",
       "      <th>bundle_id</th>\n",
       "      <th>correct_answer</th>\n",
       "      <th>part</th>\n",
       "      <th>tags</th>\n",
       "    </tr>\n",
       "  </thead>\n",
       "  <tbody>\n",
       "    <tr>\n",
       "      <th>10033</th>\n",
       "      <td>10033</td>\n",
       "      <td>10033</td>\n",
       "      <td>2</td>\n",
       "      <td>6</td>\n",
       "      <td>NaN</td>\n",
       "    </tr>\n",
       "  </tbody>\n",
       "</table>\n",
       "</div>"
      ],
      "text/plain": [
       "       question_id  bundle_id  correct_answer  part tags\n",
       "10033        10033      10033               2     6  NaN"
      ]
     },
     "execution_count": 18,
     "metadata": {},
     "output_type": "execute_result"
    }
   ],
   "source": [
    "questions_df[questions_df.tags.isna()]"
   ]
  },
  {
   "cell_type": "markdown",
   "metadata": {},
   "source": [
    "##### Проверим есть ли в датафрейме questions_df дубликаты"
   ]
  },
  {
   "cell_type": "code",
   "execution_count": 19,
   "metadata": {},
   "outputs": [
    {
     "data": {
      "text/plain": [
       "0"
      ]
     },
     "execution_count": 19,
     "metadata": {},
     "output_type": "execute_result"
    }
   ],
   "source": [
    "questions_df.duplicated().sum() "
   ]
  },
  {
   "cell_type": "markdown",
   "metadata": {},
   "source": [
    "##### В датафрейме questions_df дубликаты отсутствуют\n",
    "##### Теперь мы выведем справку о количестве значений в каждом столбце и типе данных датафрейма questions_df"
   ]
  },
  {
   "cell_type": "code",
   "execution_count": 20,
   "metadata": {},
   "outputs": [
    {
     "name": "stdout",
     "output_type": "stream",
     "text": [
      "<class 'pandas.core.frame.DataFrame'>\n",
      "RangeIndex: 13523 entries, 0 to 13522\n",
      "Data columns (total 5 columns):\n",
      " #   Column          Non-Null Count  Dtype \n",
      "---  ------          --------------  ----- \n",
      " 0   question_id     13523 non-null  int64 \n",
      " 1   bundle_id       13523 non-null  int64 \n",
      " 2   correct_answer  13523 non-null  int64 \n",
      " 3   part            13523 non-null  int64 \n",
      " 4   tags            13522 non-null  object\n",
      "dtypes: int64(4), object(1)\n",
      "memory usage: 528.4+ KB\n"
     ]
    }
   ],
   "source": [
    "questions_df.info() "
   ]
  },
  {
   "cell_type": "markdown",
   "metadata": {},
   "source": [
    "##### Рассмотрим количество значений внешних ключей, соответствующих каждому значению в столбце разделов"
   ]
  },
  {
   "cell_type": "code",
   "execution_count": 21,
   "metadata": {},
   "outputs": [
    {
     "data": {
      "text/html": [
       "<div>\n",
       "<style scoped>\n",
       "    .dataframe tbody tr th:only-of-type {\n",
       "        vertical-align: middle;\n",
       "    }\n",
       "\n",
       "    .dataframe tbody tr th {\n",
       "        vertical-align: top;\n",
       "    }\n",
       "\n",
       "    .dataframe thead th {\n",
       "        text-align: right;\n",
       "    }\n",
       "</style>\n",
       "<table border=\"1\" class=\"dataframe\">\n",
       "  <thead>\n",
       "    <tr style=\"text-align: right;\">\n",
       "      <th></th>\n",
       "      <th>part</th>\n",
       "      <th>question_id</th>\n",
       "    </tr>\n",
       "  </thead>\n",
       "  <tbody>\n",
       "    <tr>\n",
       "      <th>0</th>\n",
       "      <td>1</td>\n",
       "      <td>992</td>\n",
       "    </tr>\n",
       "    <tr>\n",
       "      <th>1</th>\n",
       "      <td>2</td>\n",
       "      <td>1647</td>\n",
       "    </tr>\n",
       "    <tr>\n",
       "      <th>2</th>\n",
       "      <td>3</td>\n",
       "      <td>1562</td>\n",
       "    </tr>\n",
       "    <tr>\n",
       "      <th>3</th>\n",
       "      <td>4</td>\n",
       "      <td>1439</td>\n",
       "    </tr>\n",
       "    <tr>\n",
       "      <th>4</th>\n",
       "      <td>5</td>\n",
       "      <td>5511</td>\n",
       "    </tr>\n",
       "    <tr>\n",
       "      <th>5</th>\n",
       "      <td>6</td>\n",
       "      <td>1212</td>\n",
       "    </tr>\n",
       "    <tr>\n",
       "      <th>6</th>\n",
       "      <td>7</td>\n",
       "      <td>1160</td>\n",
       "    </tr>\n",
       "  </tbody>\n",
       "</table>\n",
       "</div>"
      ],
      "text/plain": [
       "   part  question_id\n",
       "0     1          992\n",
       "1     2         1647\n",
       "2     3         1562\n",
       "3     4         1439\n",
       "4     5         5511\n",
       "5     6         1212\n",
       "6     7         1160"
      ]
     },
     "execution_count": 21,
     "metadata": {},
     "output_type": "execute_result"
    }
   ],
   "source": [
    "questions_df[['part', 'question_id']].groupby(['part'], as_index = False).count()"
   ]
  },
  {
   "cell_type": "code",
   "execution_count": 22,
   "metadata": {},
   "outputs": [
    {
     "data": {
      "text/plain": [
       "<AxesSubplot: xlabel='part', ylabel='Count'>"
      ]
     },
     "execution_count": 22,
     "metadata": {},
     "output_type": "execute_result"
    },
    {
     "data": {
      "image/png": "[encoded data removed]",
      "text/plain": [
       "<Figure size 640x480 with 1 Axes>"
      ]
     },
     "metadata": {},
     "output_type": "display_data"
    }
   ],
   "source": [
    "sns.histplot(data = questions_df, x = 'part', bins = 7)"
   ]
  },
  {
   "cell_type": "markdown",
   "metadata": {},
   "source": [
    "##### Внешние ключи по всем разделам распределены практически без отклонений, кроме пятого."
   ]
  },
  {
   "cell_type": "markdown",
   "metadata": {},
   "source": [
    "## Анализ основной таблицы"
   ]
  },
  {
   "attachments": {},
   "cell_type": "markdown",
   "metadata": {},
   "source": [
    "### train.csv : метаданные ответов на заданные студентам вопросы.\n",
    "\n",
    "**row_id**: (int64) идентификатор строки.  \n",
    "**timestamp**: (int64) время в миллисекундах между этим взаимодействием со студентом и завершением первого события от данного студента.  \n",
    "**user_id**: (int32) идентификатор студента.  \n",
    "**content_id**: (int16) идентификатор взаимодействия со студентом.  \n",
    "**content_type_id**: (int8) идентификатор типа контента. 0, если контентом был заданный студенту вопрос, 1 - просмотр студентом лекции.  \n",
    "**task_container_id**: (int16) идентификатор набора вопросов или лекций. Например, студент может увидеть три вопроса подряд, прежде чем увидит пояснения к какому-либо из них. Все три вопроса будут иметь общий идентификатор набора.  \n",
    "**user_answer**: (int8) ответ студента на вопрос, если они есть. Для лекций считать -1 как null.  \n",
    "**answered_correctly**: (int8) был ли ответ студента на вопрос правильным. Для лекций считать -1 как null.  \n",
    "**prior_question_elapsed_time**: (float32) среднее время в миллисекундах, затрачиваемое студентом для ответа на каждый вопрос из предыдущего набора вопросов, без учёта промежуточных лекций. Имеет значение null для 1-го набора вопросов или лекции.  \n",
    "**prior_question_had_explanation**: (bool) увидел ли студент объяснение и правильный ответ после ответа на предыдущий набор вопросов, без учёта промежуточных лекций. Это значение является общим для одного набора вопросов и имеет значение null для 1-го набора вопросов или лекции. Как правило, первые несколько вопросов, увиденные студентом, были частью вводного диагностического теста и не получили никакой обратной связи."
   ]
  },
  {
   "cell_type": "code",
   "execution_count": 39,
   "metadata": {},
   "outputs": [
    {
     "data": {
      "text/plain": [
       "(1000000, 10)"
      ]
     },
     "execution_count": 39,
     "metadata": {},
     "output_type": "execute_result"
    }
   ],
   "source": [
    "df = pd.read_csv('train.csv', nrows=1000000, encoding = 'utf-8')\n",
    "df.shape"
   ]
  },
  {
   "cell_type": "markdown",
   "metadata": {},
   "source": [
    "#### Выводим строки датафрейма df при помощи метода .head"
   ]
  },
  {
   "cell_type": "code",
   "execution_count": 40,
   "metadata": {},
   "outputs": [
    {
     "data": {
      "text/html": [
       "<div>\n",
       "<style scoped>\n",
       "    .dataframe tbody tr th:only-of-type {\n",
       "        vertical-align: middle;\n",
       "    }\n",
       "\n",
       "    .dataframe tbody tr th {\n",
       "        vertical-align: top;\n",
       "    }\n",
       "\n",
       "    .dataframe thead th {\n",
       "        text-align: right;\n",
       "    }\n",
       "</style>\n",
       "<table border=\"1\" class=\"dataframe\">\n",
       "  <thead>\n",
       "    <tr style=\"text-align: right;\">\n",
       "      <th></th>\n",
       "      <th>row_id</th>\n",
       "      <th>timestamp</th>\n",
       "      <th>user_id</th>\n",
       "      <th>content_id</th>\n",
       "      <th>content_type_id</th>\n",
       "      <th>task_container_id</th>\n",
       "      <th>user_answer</th>\n",
       "      <th>answered_correctly</th>\n",
       "      <th>prior_question_elapsed_time</th>\n",
       "      <th>prior_question_had_explanation</th>\n",
       "    </tr>\n",
       "  </thead>\n",
       "  <tbody>\n",
       "    <tr>\n",
       "      <th>0</th>\n",
       "      <td>0</td>\n",
       "      <td>0</td>\n",
       "      <td>115</td>\n",
       "      <td>5692</td>\n",
       "      <td>0</td>\n",
       "      <td>1</td>\n",
       "      <td>3</td>\n",
       "      <td>1</td>\n",
       "      <td>NaN</td>\n",
       "      <td>NaN</td>\n",
       "    </tr>\n",
       "    <tr>\n",
       "      <th>1</th>\n",
       "      <td>1</td>\n",
       "      <td>56943</td>\n",
       "      <td>115</td>\n",
       "      <td>5716</td>\n",
       "      <td>0</td>\n",
       "      <td>2</td>\n",
       "      <td>2</td>\n",
       "      <td>1</td>\n",
       "      <td>37000.0</td>\n",
       "      <td>False</td>\n",
       "    </tr>\n",
       "    <tr>\n",
       "      <th>2</th>\n",
       "      <td>2</td>\n",
       "      <td>118363</td>\n",
       "      <td>115</td>\n",
       "      <td>128</td>\n",
       "      <td>0</td>\n",
       "      <td>0</td>\n",
       "      <td>0</td>\n",
       "      <td>1</td>\n",
       "      <td>55000.0</td>\n",
       "      <td>False</td>\n",
       "    </tr>\n",
       "    <tr>\n",
       "      <th>3</th>\n",
       "      <td>3</td>\n",
       "      <td>131167</td>\n",
       "      <td>115</td>\n",
       "      <td>7860</td>\n",
       "      <td>0</td>\n",
       "      <td>3</td>\n",
       "      <td>0</td>\n",
       "      <td>1</td>\n",
       "      <td>19000.0</td>\n",
       "      <td>False</td>\n",
       "    </tr>\n",
       "    <tr>\n",
       "      <th>4</th>\n",
       "      <td>4</td>\n",
       "      <td>137965</td>\n",
       "      <td>115</td>\n",
       "      <td>7922</td>\n",
       "      <td>0</td>\n",
       "      <td>4</td>\n",
       "      <td>1</td>\n",
       "      <td>1</td>\n",
       "      <td>11000.0</td>\n",
       "      <td>False</td>\n",
       "    </tr>\n",
       "  </tbody>\n",
       "</table>\n",
       "</div>"
      ],
      "text/plain": [
       "   row_id  timestamp  user_id  content_id  content_type_id  task_container_id  \\\n",
       "0       0          0      115        5692                0                  1   \n",
       "1       1      56943      115        5716                0                  2   \n",
       "2       2     118363      115         128                0                  0   \n",
       "3       3     131167      115        7860                0                  3   \n",
       "4       4     137965      115        7922                0                  4   \n",
       "\n",
       "   user_answer  answered_correctly  prior_question_elapsed_time  \\\n",
       "0            3                   1                          NaN   \n",
       "1            2                   1                      37000.0   \n",
       "2            0                   1                      55000.0   \n",
       "3            0                   1                      19000.0   \n",
       "4            1                   1                      11000.0   \n",
       "\n",
       "  prior_question_had_explanation  \n",
       "0                            NaN  \n",
       "1                          False  \n",
       "2                          False  \n",
       "3                          False  \n",
       "4                          False  "
      ]
     },
     "execution_count": 40,
     "metadata": {},
     "output_type": "execute_result"
    }
   ],
   "source": [
    "df.head()"
   ]
  },
  {
   "cell_type": "markdown",
   "metadata": {},
   "source": [
    "### Произведем анализ датафрема df на то, какие у нас есть категориальные и числовые столбцы"
   ]
  },
  {
   "cell_type": "code",
   "execution_count": 41,
   "metadata": {},
   "outputs": [
    {
     "name": "stdout",
     "output_type": "stream",
     "text": [
      "Категориальные данные:\t  ['prior_question_had_explanation'] \n",
      " Число столбцов = 1\n",
      "Числовые данные:\t  ['row_id', 'timestamp', 'user_id', 'content_id', 'content_type_id', 'task_container_id', 'user_answer', 'answered_correctly', 'prior_question_elapsed_time'] \n",
      " Число столбцов = 9\n"
     ]
    }
   ],
   "source": [
    "cat_col = []\n",
    "num_col = []\n",
    "\n",
    "for column_name in df.columns:\n",
    "    if (df[column_name].dtypes == object):\n",
    "        cat_col += [column_name]\n",
    "    else:\n",
    "        num_col += [column_name]\n",
    "\n",
    "print('Категориальные данные:\\t ',cat_col, '\\n Число столбцов =', len(cat_col))\n",
    "print('Числовые данные:\\t ', num_col, '\\n Число столбцов =', len(num_col))"
   ]
  },
  {
   "cell_type": "markdown",
   "metadata": {},
   "source": [
    "#### Выводим статистику по числовым признакам датафрейма df c помощью метода .describe"
   ]
  },
  {
   "cell_type": "code",
   "execution_count": 42,
   "metadata": {},
   "outputs": [
    {
     "data": {
      "text/html": [
       "<div>\n",
       "<style scoped>\n",
       "    .dataframe tbody tr th:only-of-type {\n",
       "        vertical-align: middle;\n",
       "    }\n",
       "\n",
       "    .dataframe tbody tr th {\n",
       "        vertical-align: top;\n",
       "    }\n",
       "\n",
       "    .dataframe thead th {\n",
       "        text-align: right;\n",
       "    }\n",
       "</style>\n",
       "<table border=\"1\" class=\"dataframe\">\n",
       "  <thead>\n",
       "    <tr style=\"text-align: right;\">\n",
       "      <th></th>\n",
       "      <th>row_id</th>\n",
       "      <th>timestamp</th>\n",
       "      <th>user_id</th>\n",
       "      <th>content_id</th>\n",
       "      <th>content_type_id</th>\n",
       "      <th>task_container_id</th>\n",
       "      <th>user_answer</th>\n",
       "      <th>answered_correctly</th>\n",
       "      <th>prior_question_elapsed_time</th>\n",
       "    </tr>\n",
       "  </thead>\n",
       "  <tbody>\n",
       "    <tr>\n",
       "      <th>count</th>\n",
       "      <td>1000000.000000</td>\n",
       "      <td>1.000000e+06</td>\n",
       "      <td>1.000000e+06</td>\n",
       "      <td>1000000.000000</td>\n",
       "      <td>1000000.000000</td>\n",
       "      <td>1000000.000000</td>\n",
       "      <td>1000000.000000</td>\n",
       "      <td>1000000.000000</td>\n",
       "      <td>976277.000000</td>\n",
       "    </tr>\n",
       "    <tr>\n",
       "      <th>mean</th>\n",
       "      <td>499999.500000</td>\n",
       "      <td>7.344311e+09</td>\n",
       "      <td>1.017255e+07</td>\n",
       "      <td>5232.691523</td>\n",
       "      <td>0.019907</td>\n",
       "      <td>806.105689</td>\n",
       "      <td>1.374784</td>\n",
       "      <td>0.617504</td>\n",
       "      <td>25302.962693</td>\n",
       "    </tr>\n",
       "    <tr>\n",
       "      <th>std</th>\n",
       "      <td>288675.278932</td>\n",
       "      <td>1.058693e+10</td>\n",
       "      <td>6.029234e+06</td>\n",
       "      <td>3882.323419</td>\n",
       "      <td>0.139681</td>\n",
       "      <td>1025.887530</td>\n",
       "      <td>1.194168</td>\n",
       "      <td>0.525364</td>\n",
       "      <td>19710.310227</td>\n",
       "    </tr>\n",
       "    <tr>\n",
       "      <th>min</th>\n",
       "      <td>0.000000</td>\n",
       "      <td>0.000000e+00</td>\n",
       "      <td>1.150000e+02</td>\n",
       "      <td>0.000000</td>\n",
       "      <td>0.000000</td>\n",
       "      <td>0.000000</td>\n",
       "      <td>-1.000000</td>\n",
       "      <td>-1.000000</td>\n",
       "      <td>0.000000</td>\n",
       "    </tr>\n",
       "    <tr>\n",
       "      <th>25%</th>\n",
       "      <td>249999.750000</td>\n",
       "      <td>5.211669e+08</td>\n",
       "      <td>4.702585e+06</td>\n",
       "      <td>2057.000000</td>\n",
       "      <td>0.000000</td>\n",
       "      <td>109.000000</td>\n",
       "      <td>0.000000</td>\n",
       "      <td>0.000000</td>\n",
       "      <td>16000.000000</td>\n",
       "    </tr>\n",
       "    <tr>\n",
       "      <th>50%</th>\n",
       "      <td>499999.500000</td>\n",
       "      <td>2.824811e+09</td>\n",
       "      <td>9.678259e+06</td>\n",
       "      <td>5052.000000</td>\n",
       "      <td>0.000000</td>\n",
       "      <td>391.000000</td>\n",
       "      <td>1.000000</td>\n",
       "      <td>1.000000</td>\n",
       "      <td>21000.000000</td>\n",
       "    </tr>\n",
       "    <tr>\n",
       "      <th>75%</th>\n",
       "      <td>749999.250000</td>\n",
       "      <td>1.010186e+10</td>\n",
       "      <td>1.556872e+07</td>\n",
       "      <td>7421.000000</td>\n",
       "      <td>0.000000</td>\n",
       "      <td>1112.000000</td>\n",
       "      <td>3.000000</td>\n",
       "      <td>1.000000</td>\n",
       "      <td>29666.000000</td>\n",
       "    </tr>\n",
       "    <tr>\n",
       "      <th>max</th>\n",
       "      <td>999999.000000</td>\n",
       "      <td>7.809200e+10</td>\n",
       "      <td>2.094902e+07</td>\n",
       "      <td>32736.000000</td>\n",
       "      <td>1.000000</td>\n",
       "      <td>7739.000000</td>\n",
       "      <td>3.000000</td>\n",
       "      <td>1.000000</td>\n",
       "      <td>300000.000000</td>\n",
       "    </tr>\n",
       "  </tbody>\n",
       "</table>\n",
       "</div>"
      ],
      "text/plain": [
       "               row_id     timestamp       user_id      content_id  \\\n",
       "count  1000000.000000  1.000000e+06  1.000000e+06  1000000.000000   \n",
       "mean    499999.500000  7.344311e+09  1.017255e+07     5232.691523   \n",
       "std     288675.278932  1.058693e+10  6.029234e+06     3882.323419   \n",
       "min          0.000000  0.000000e+00  1.150000e+02        0.000000   \n",
       "25%     249999.750000  5.211669e+08  4.702585e+06     2057.000000   \n",
       "50%     499999.500000  2.824811e+09  9.678259e+06     5052.000000   \n",
       "75%     749999.250000  1.010186e+10  1.556872e+07     7421.000000   \n",
       "max     999999.000000  7.809200e+10  2.094902e+07    32736.000000   \n",
       "\n",
       "       content_type_id  task_container_id     user_answer  answered_correctly  \\\n",
       "count   1000000.000000     1000000.000000  1000000.000000      1000000.000000   \n",
       "mean          0.019907         806.105689        1.374784            0.617504   \n",
       "std           0.139681        1025.887530        1.194168            0.525364   \n",
       "min           0.000000           0.000000       -1.000000           -1.000000   \n",
       "25%           0.000000         109.000000        0.000000            0.000000   \n",
       "50%           0.000000         391.000000        1.000000            1.000000   \n",
       "75%           0.000000        1112.000000        3.000000            1.000000   \n",
       "max           1.000000        7739.000000        3.000000            1.000000   \n",
       "\n",
       "       prior_question_elapsed_time  \n",
       "count                976277.000000  \n",
       "mean                  25302.962693  \n",
       "std                   19710.310227  \n",
       "min                       0.000000  \n",
       "25%                   16000.000000  \n",
       "50%                   21000.000000  \n",
       "75%                   29666.000000  \n",
       "max                  300000.000000  "
      ]
     },
     "execution_count": 42,
     "metadata": {},
     "output_type": "execute_result"
    }
   ],
   "source": [
    "df.describe()"
   ]
  },
  {
   "cell_type": "markdown",
   "metadata": {},
   "source": [
    "### Рассмотрим гистограммы (распределение) значений по каждому числовому признаку (столбцу)\n",
    "##### Сначала столбцы с \"большими\" значениями"
   ]
  },
  {
   "cell_type": "code",
   "execution_count": 43,
   "metadata": {},
   "outputs": [
    {
     "data": {
      "image/png": "[encoded data removed]",
      "text/plain": [
       "<Figure size 2000x1500 with 6 Axes>"
      ]
     },
     "metadata": {},
     "output_type": "display_data"
    }
   ],
   "source": [
    "num_col_big = ['row_id', 'timestamp', 'user_id', 'content_id', 'task_container_id', 'prior_question_elapsed_time']\n",
    "width = 2\n",
    "height = int(np.ceil(len(num_col_big) / width))\n",
    "fig, ax = plt.subplots(nrows = height, ncols = width, figsize = (20, 15))\n",
    "\n",
    "for idx, column_name in enumerate(num_col_big):\n",
    "    plt.subplot(height, width, idx + 1)\n",
    "    sns.histplot(data = df, x = column_name, bins = 40, color = 'brown')"
   ]
  },
  {
   "cell_type": "markdown",
   "metadata": {},
   "source": [
    "##### Теперь столбцы с \"маленькими\" значениями"
   ]
  },
  {
   "cell_type": "code",
   "execution_count": 44,
   "metadata": {},
   "outputs": [
    {
     "data": {
      "image/png": "[encoded data removed]",
      "text/plain": [
       "<Figure size 1500x400 with 3 Axes>"
      ]
     },
     "metadata": {},
     "output_type": "display_data"
    }
   ],
   "source": [
    "num_col_small = ['content_type_id', 'user_answer', 'answered_correctly']\n",
    "width = 3\n",
    "height = int(np.ceil(len(num_col_small) / width))\n",
    "fig, ax = plt.subplots(nrows = height, ncols = width, figsize = (15, 4))\n",
    "\n",
    "for idx, column_name in enumerate(num_col_small):\n",
    "    plt.subplot(height, width, idx + 1)\n",
    "    sns.histplot(data = df, x = column_name, bins = 5, color = 'yellow')"
   ]
  },
  {
   "attachments": {},
   "cell_type": "markdown",
   "metadata": {},
   "source": [
    "### Проведём очистку данных:"
   ]
  },
  {
   "cell_type": "code",
   "execution_count": 45,
   "metadata": {},
   "outputs": [
    {
     "data": {
      "text/plain": [
       "row_id                                0\n",
       "timestamp                             0\n",
       "user_id                               0\n",
       "content_id                            0\n",
       "content_type_id                       0\n",
       "task_container_id                     0\n",
       "user_answer                           0\n",
       "answered_correctly                    0\n",
       "prior_question_elapsed_time       23723\n",
       "prior_question_had_explanation     3816\n",
       "dtype: int64"
      ]
     },
     "execution_count": 45,
     "metadata": {},
     "output_type": "execute_result"
    }
   ],
   "source": [
    "# Ищем пропуски в датафрейме df - есть 23723 в столбце времени ответа на каждый вопрос\n",
    "# и 3816 в столбце просмотра объяснений и правильных ответов\n",
    "df.isna().sum()"
   ]
  },
  {
   "attachments": {},
   "cell_type": "markdown",
   "metadata": {},
   "source": [
    "##### В столбце времени ответа на каждый вопрос есть 2351538 пропуска\n",
    "##### В столбце просмотра объяснений и правильных ответов их 392506 "
   ]
  },
  {
   "attachments": {},
   "cell_type": "markdown",
   "metadata": {},
   "source": [
    "### Выведем пропуски в столбце времени ответа на каждый вопрос."
   ]
  },
  {
   "cell_type": "code",
   "execution_count": 46,
   "metadata": {},
   "outputs": [
    {
     "data": {
      "text/html": [
       "<div>\n",
       "<style scoped>\n",
       "    .dataframe tbody tr th:only-of-type {\n",
       "        vertical-align: middle;\n",
       "    }\n",
       "\n",
       "    .dataframe tbody tr th {\n",
       "        vertical-align: top;\n",
       "    }\n",
       "\n",
       "    .dataframe thead th {\n",
       "        text-align: right;\n",
       "    }\n",
       "</style>\n",
       "<table border=\"1\" class=\"dataframe\">\n",
       "  <thead>\n",
       "    <tr style=\"text-align: right;\">\n",
       "      <th></th>\n",
       "      <th>row_id</th>\n",
       "      <th>timestamp</th>\n",
       "      <th>user_id</th>\n",
       "      <th>content_id</th>\n",
       "      <th>content_type_id</th>\n",
       "      <th>task_container_id</th>\n",
       "      <th>user_answer</th>\n",
       "      <th>answered_correctly</th>\n",
       "      <th>prior_question_elapsed_time</th>\n",
       "      <th>prior_question_had_explanation</th>\n",
       "    </tr>\n",
       "  </thead>\n",
       "  <tbody>\n",
       "    <tr>\n",
       "      <th>0</th>\n",
       "      <td>0</td>\n",
       "      <td>0</td>\n",
       "      <td>115</td>\n",
       "      <td>5692</td>\n",
       "      <td>0</td>\n",
       "      <td>1</td>\n",
       "      <td>3</td>\n",
       "      <td>1</td>\n",
       "      <td>NaN</td>\n",
       "      <td>NaN</td>\n",
       "    </tr>\n",
       "    <tr>\n",
       "      <th>46</th>\n",
       "      <td>46</td>\n",
       "      <td>0</td>\n",
       "      <td>124</td>\n",
       "      <td>7900</td>\n",
       "      <td>0</td>\n",
       "      <td>0</td>\n",
       "      <td>0</td>\n",
       "      <td>1</td>\n",
       "      <td>NaN</td>\n",
       "      <td>NaN</td>\n",
       "    </tr>\n",
       "    <tr>\n",
       "      <th>76</th>\n",
       "      <td>76</td>\n",
       "      <td>0</td>\n",
       "      <td>2746</td>\n",
       "      <td>5273</td>\n",
       "      <td>0</td>\n",
       "      <td>0</td>\n",
       "      <td>1</td>\n",
       "      <td>0</td>\n",
       "      <td>NaN</td>\n",
       "      <td>NaN</td>\n",
       "    </tr>\n",
       "    <tr>\n",
       "      <th>89</th>\n",
       "      <td>89</td>\n",
       "      <td>653762</td>\n",
       "      <td>2746</td>\n",
       "      <td>6808</td>\n",
       "      <td>1</td>\n",
       "      <td>14</td>\n",
       "      <td>-1</td>\n",
       "      <td>-1</td>\n",
       "      <td>NaN</td>\n",
       "      <td>False</td>\n",
       "    </tr>\n",
       "    <tr>\n",
       "      <th>96</th>\n",
       "      <td>96</td>\n",
       "      <td>0</td>\n",
       "      <td>5382</td>\n",
       "      <td>5000</td>\n",
       "      <td>0</td>\n",
       "      <td>0</td>\n",
       "      <td>0</td>\n",
       "      <td>1</td>\n",
       "      <td>NaN</td>\n",
       "      <td>NaN</td>\n",
       "    </tr>\n",
       "    <tr>\n",
       "      <th>...</th>\n",
       "      <td>...</td>\n",
       "      <td>...</td>\n",
       "      <td>...</td>\n",
       "      <td>...</td>\n",
       "      <td>...</td>\n",
       "      <td>...</td>\n",
       "      <td>...</td>\n",
       "      <td>...</td>\n",
       "      <td>...</td>\n",
       "      <td>...</td>\n",
       "    </tr>\n",
       "    <tr>\n",
       "      <th>999762</th>\n",
       "      <td>999762</td>\n",
       "      <td>207265143</td>\n",
       "      <td>20938253</td>\n",
       "      <td>26404</td>\n",
       "      <td>1</td>\n",
       "      <td>308</td>\n",
       "      <td>-1</td>\n",
       "      <td>-1</td>\n",
       "      <td>NaN</td>\n",
       "      <td>False</td>\n",
       "    </tr>\n",
       "    <tr>\n",
       "      <th>999790</th>\n",
       "      <td>999790</td>\n",
       "      <td>208152685</td>\n",
       "      <td>20938253</td>\n",
       "      <td>22362</td>\n",
       "      <td>1</td>\n",
       "      <td>336</td>\n",
       "      <td>-1</td>\n",
       "      <td>-1</td>\n",
       "      <td>NaN</td>\n",
       "      <td>False</td>\n",
       "    </tr>\n",
       "    <tr>\n",
       "      <th>999859</th>\n",
       "      <td>999859</td>\n",
       "      <td>1142327350</td>\n",
       "      <td>20938253</td>\n",
       "      <td>1731</td>\n",
       "      <td>1</td>\n",
       "      <td>406</td>\n",
       "      <td>-1</td>\n",
       "      <td>-1</td>\n",
       "      <td>NaN</td>\n",
       "      <td>False</td>\n",
       "    </tr>\n",
       "    <tr>\n",
       "      <th>999901</th>\n",
       "      <td>999901</td>\n",
       "      <td>0</td>\n",
       "      <td>20948951</td>\n",
       "      <td>6040</td>\n",
       "      <td>0</td>\n",
       "      <td>0</td>\n",
       "      <td>3</td>\n",
       "      <td>0</td>\n",
       "      <td>NaN</td>\n",
       "      <td>NaN</td>\n",
       "    </tr>\n",
       "    <tr>\n",
       "      <th>999952</th>\n",
       "      <td>999952</td>\n",
       "      <td>0</td>\n",
       "      <td>20949024</td>\n",
       "      <td>7900</td>\n",
       "      <td>0</td>\n",
       "      <td>0</td>\n",
       "      <td>0</td>\n",
       "      <td>1</td>\n",
       "      <td>NaN</td>\n",
       "      <td>NaN</td>\n",
       "    </tr>\n",
       "  </tbody>\n",
       "</table>\n",
       "<p>23723 rows × 10 columns</p>\n",
       "</div>"
      ],
      "text/plain": [
       "        row_id   timestamp   user_id  content_id  content_type_id  \\\n",
       "0            0           0       115        5692                0   \n",
       "46          46           0       124        7900                0   \n",
       "76          76           0      2746        5273                0   \n",
       "89          89      653762      2746        6808                1   \n",
       "96          96           0      5382        5000                0   \n",
       "...        ...         ...       ...         ...              ...   \n",
       "999762  999762   207265143  20938253       26404                1   \n",
       "999790  999790   208152685  20938253       22362                1   \n",
       "999859  999859  1142327350  20938253        1731                1   \n",
       "999901  999901           0  20948951        6040                0   \n",
       "999952  999952           0  20949024        7900                0   \n",
       "\n",
       "        task_container_id  user_answer  answered_correctly  \\\n",
       "0                       1            3                   1   \n",
       "46                      0            0                   1   \n",
       "76                      0            1                   0   \n",
       "89                     14           -1                  -1   \n",
       "96                      0            0                   1   \n",
       "...                   ...          ...                 ...   \n",
       "999762                308           -1                  -1   \n",
       "999790                336           -1                  -1   \n",
       "999859                406           -1                  -1   \n",
       "999901                  0            3                   0   \n",
       "999952                  0            0                   1   \n",
       "\n",
       "        prior_question_elapsed_time prior_question_had_explanation  \n",
       "0                               NaN                            NaN  \n",
       "46                              NaN                            NaN  \n",
       "76                              NaN                            NaN  \n",
       "89                              NaN                          False  \n",
       "96                              NaN                            NaN  \n",
       "...                             ...                            ...  \n",
       "999762                          NaN                          False  \n",
       "999790                          NaN                          False  \n",
       "999859                          NaN                          False  \n",
       "999901                          NaN                            NaN  \n",
       "999952                          NaN                            NaN  \n",
       "\n",
       "[23723 rows x 10 columns]"
      ]
     },
     "execution_count": 46,
     "metadata": {},
     "output_type": "execute_result"
    }
   ],
   "source": [
    "# Выводим пропуски в столбце времени ответа на каждый вопрос. \n",
    "# Они обусловлены условием: имеет значение null для 1-го набора вопросов или лекции.\n",
    "df[df.prior_question_elapsed_time.isna()]"
   ]
  },
  {
   "attachments": {},
   "cell_type": "markdown",
   "metadata": {},
   "source": [
    "##### Они обусловлены условием: имеет значение null для 1-го набора вопросов или лекции."
   ]
  },
  {
   "attachments": {},
   "cell_type": "markdown",
   "metadata": {},
   "source": [
    "### Теперь выведем пропуски в столбце просмотра объяснений и правильных ответов. "
   ]
  },
  {
   "cell_type": "code",
   "execution_count": 47,
   "metadata": {},
   "outputs": [
    {
     "data": {
      "text/html": [
       "<div>\n",
       "<style scoped>\n",
       "    .dataframe tbody tr th:only-of-type {\n",
       "        vertical-align: middle;\n",
       "    }\n",
       "\n",
       "    .dataframe tbody tr th {\n",
       "        vertical-align: top;\n",
       "    }\n",
       "\n",
       "    .dataframe thead th {\n",
       "        text-align: right;\n",
       "    }\n",
       "</style>\n",
       "<table border=\"1\" class=\"dataframe\">\n",
       "  <thead>\n",
       "    <tr style=\"text-align: right;\">\n",
       "      <th></th>\n",
       "      <th>row_id</th>\n",
       "      <th>timestamp</th>\n",
       "      <th>user_id</th>\n",
       "      <th>content_id</th>\n",
       "      <th>content_type_id</th>\n",
       "      <th>task_container_id</th>\n",
       "      <th>user_answer</th>\n",
       "      <th>answered_correctly</th>\n",
       "      <th>prior_question_elapsed_time</th>\n",
       "      <th>prior_question_had_explanation</th>\n",
       "    </tr>\n",
       "  </thead>\n",
       "  <tbody>\n",
       "    <tr>\n",
       "      <th>0</th>\n",
       "      <td>0</td>\n",
       "      <td>0</td>\n",
       "      <td>115</td>\n",
       "      <td>5692</td>\n",
       "      <td>0</td>\n",
       "      <td>1</td>\n",
       "      <td>3</td>\n",
       "      <td>1</td>\n",
       "      <td>NaN</td>\n",
       "      <td>NaN</td>\n",
       "    </tr>\n",
       "    <tr>\n",
       "      <th>46</th>\n",
       "      <td>46</td>\n",
       "      <td>0</td>\n",
       "      <td>124</td>\n",
       "      <td>7900</td>\n",
       "      <td>0</td>\n",
       "      <td>0</td>\n",
       "      <td>0</td>\n",
       "      <td>1</td>\n",
       "      <td>NaN</td>\n",
       "      <td>NaN</td>\n",
       "    </tr>\n",
       "    <tr>\n",
       "      <th>76</th>\n",
       "      <td>76</td>\n",
       "      <td>0</td>\n",
       "      <td>2746</td>\n",
       "      <td>5273</td>\n",
       "      <td>0</td>\n",
       "      <td>0</td>\n",
       "      <td>1</td>\n",
       "      <td>0</td>\n",
       "      <td>NaN</td>\n",
       "      <td>NaN</td>\n",
       "    </tr>\n",
       "    <tr>\n",
       "      <th>96</th>\n",
       "      <td>96</td>\n",
       "      <td>0</td>\n",
       "      <td>5382</td>\n",
       "      <td>5000</td>\n",
       "      <td>0</td>\n",
       "      <td>0</td>\n",
       "      <td>0</td>\n",
       "      <td>1</td>\n",
       "      <td>NaN</td>\n",
       "      <td>NaN</td>\n",
       "    </tr>\n",
       "    <tr>\n",
       "      <th>224</th>\n",
       "      <td>224</td>\n",
       "      <td>0</td>\n",
       "      <td>8623</td>\n",
       "      <td>3915</td>\n",
       "      <td>0</td>\n",
       "      <td>0</td>\n",
       "      <td>3</td>\n",
       "      <td>1</td>\n",
       "      <td>NaN</td>\n",
       "      <td>NaN</td>\n",
       "    </tr>\n",
       "    <tr>\n",
       "      <th>...</th>\n",
       "      <td>...</td>\n",
       "      <td>...</td>\n",
       "      <td>...</td>\n",
       "      <td>...</td>\n",
       "      <td>...</td>\n",
       "      <td>...</td>\n",
       "      <td>...</td>\n",
       "      <td>...</td>\n",
       "      <td>...</td>\n",
       "      <td>...</td>\n",
       "    </tr>\n",
       "    <tr>\n",
       "      <th>998929</th>\n",
       "      <td>998929</td>\n",
       "      <td>0</td>\n",
       "      <td>20913319</td>\n",
       "      <td>6659</td>\n",
       "      <td>0</td>\n",
       "      <td>0</td>\n",
       "      <td>1</td>\n",
       "      <td>0</td>\n",
       "      <td>NaN</td>\n",
       "      <td>NaN</td>\n",
       "    </tr>\n",
       "    <tr>\n",
       "      <th>999345</th>\n",
       "      <td>999345</td>\n",
       "      <td>0</td>\n",
       "      <td>20913864</td>\n",
       "      <td>4790</td>\n",
       "      <td>0</td>\n",
       "      <td>0</td>\n",
       "      <td>1</td>\n",
       "      <td>1</td>\n",
       "      <td>NaN</td>\n",
       "      <td>NaN</td>\n",
       "    </tr>\n",
       "    <tr>\n",
       "      <th>999366</th>\n",
       "      <td>999366</td>\n",
       "      <td>0</td>\n",
       "      <td>20938253</td>\n",
       "      <td>7900</td>\n",
       "      <td>0</td>\n",
       "      <td>0</td>\n",
       "      <td>2</td>\n",
       "      <td>0</td>\n",
       "      <td>NaN</td>\n",
       "      <td>NaN</td>\n",
       "    </tr>\n",
       "    <tr>\n",
       "      <th>999901</th>\n",
       "      <td>999901</td>\n",
       "      <td>0</td>\n",
       "      <td>20948951</td>\n",
       "      <td>6040</td>\n",
       "      <td>0</td>\n",
       "      <td>0</td>\n",
       "      <td>3</td>\n",
       "      <td>0</td>\n",
       "      <td>NaN</td>\n",
       "      <td>NaN</td>\n",
       "    </tr>\n",
       "    <tr>\n",
       "      <th>999952</th>\n",
       "      <td>999952</td>\n",
       "      <td>0</td>\n",
       "      <td>20949024</td>\n",
       "      <td>7900</td>\n",
       "      <td>0</td>\n",
       "      <td>0</td>\n",
       "      <td>0</td>\n",
       "      <td>1</td>\n",
       "      <td>NaN</td>\n",
       "      <td>NaN</td>\n",
       "    </tr>\n",
       "  </tbody>\n",
       "</table>\n",
       "<p>3816 rows × 10 columns</p>\n",
       "</div>"
      ],
      "text/plain": [
       "        row_id  timestamp   user_id  content_id  content_type_id  \\\n",
       "0            0          0       115        5692                0   \n",
       "46          46          0       124        7900                0   \n",
       "76          76          0      2746        5273                0   \n",
       "96          96          0      5382        5000                0   \n",
       "224        224          0      8623        3915                0   \n",
       "...        ...        ...       ...         ...              ...   \n",
       "998929  998929          0  20913319        6659                0   \n",
       "999345  999345          0  20913864        4790                0   \n",
       "999366  999366          0  20938253        7900                0   \n",
       "999901  999901          0  20948951        6040                0   \n",
       "999952  999952          0  20949024        7900                0   \n",
       "\n",
       "        task_container_id  user_answer  answered_correctly  \\\n",
       "0                       1            3                   1   \n",
       "46                      0            0                   1   \n",
       "76                      0            1                   0   \n",
       "96                      0            0                   1   \n",
       "224                     0            3                   1   \n",
       "...                   ...          ...                 ...   \n",
       "998929                  0            1                   0   \n",
       "999345                  0            1                   1   \n",
       "999366                  0            2                   0   \n",
       "999901                  0            3                   0   \n",
       "999952                  0            0                   1   \n",
       "\n",
       "        prior_question_elapsed_time prior_question_had_explanation  \n",
       "0                               NaN                            NaN  \n",
       "46                              NaN                            NaN  \n",
       "76                              NaN                            NaN  \n",
       "96                              NaN                            NaN  \n",
       "224                             NaN                            NaN  \n",
       "...                             ...                            ...  \n",
       "998929                          NaN                            NaN  \n",
       "999345                          NaN                            NaN  \n",
       "999366                          NaN                            NaN  \n",
       "999901                          NaN                            NaN  \n",
       "999952                          NaN                            NaN  \n",
       "\n",
       "[3816 rows x 10 columns]"
      ]
     },
     "execution_count": 47,
     "metadata": {},
     "output_type": "execute_result"
    }
   ],
   "source": [
    "df[df.prior_question_had_explanation.isna()]"
   ]
  },
  {
   "attachments": {},
   "cell_type": "markdown",
   "metadata": {},
   "source": [
    "##### Они обусловлены условием: имеет значение null для 1-го набора вопросов или лекции."
   ]
  },
  {
   "attachments": {},
   "cell_type": "markdown",
   "metadata": {},
   "source": [
    "### Произведем поиск дубликатов в датафрейм df"
   ]
  },
  {
   "cell_type": "code",
   "execution_count": 48,
   "metadata": {},
   "outputs": [
    {
     "data": {
      "text/plain": [
       "0"
      ]
     },
     "execution_count": 48,
     "metadata": {},
     "output_type": "execute_result"
    }
   ],
   "source": [
    "df.duplicated().sum()"
   ]
  },
  {
   "attachments": {},
   "cell_type": "markdown",
   "metadata": {},
   "source": [
    "##### Количество пропусков равно 0, то есть отсутствуют."
   ]
  },
  {
   "attachments": {},
   "cell_type": "markdown",
   "metadata": {},
   "source": [
    "### Теперь получим справку о количествеве значений в каждом столбце и формате данных датафрейма df с помощью метода .info"
   ]
  },
  {
   "cell_type": "code",
   "execution_count": 49,
   "metadata": {},
   "outputs": [
    {
     "name": "stdout",
     "output_type": "stream",
     "text": [
      "<class 'pandas.core.frame.DataFrame'>\n",
      "RangeIndex: 1000000 entries, 0 to 999999\n",
      "Data columns (total 10 columns):\n",
      " #   Column                          Non-Null Count    Dtype  \n",
      "---  ------                          --------------    -----  \n",
      " 0   row_id                          1000000 non-null  int64  \n",
      " 1   timestamp                       1000000 non-null  int64  \n",
      " 2   user_id                         1000000 non-null  int64  \n",
      " 3   content_id                      1000000 non-null  int64  \n",
      " 4   content_type_id                 1000000 non-null  int64  \n",
      " 5   task_container_id               1000000 non-null  int64  \n",
      " 6   user_answer                     1000000 non-null  int64  \n",
      " 7   answered_correctly              1000000 non-null  int64  \n",
      " 8   prior_question_elapsed_time     976277 non-null   float64\n",
      " 9   prior_question_had_explanation  996184 non-null   object \n",
      "dtypes: float64(1), int64(8), object(1)\n",
      "memory usage: 76.3+ MB\n"
     ]
    }
   ],
   "source": [
    "df.info()"
   ]
  },
  {
   "attachments": {},
   "cell_type": "markdown",
   "metadata": {},
   "source": [
    "**Из представленных данных можно сделать следующие выводы:**\n",
    "- столбец **row_id** совпадает с индексом датафрейма df и может быть удален\n",
    "- датафрейм df занимает 7.5+ GB памяти\n",
    "- имеет смысл изменить формат хранения некоторых данных для уменьшения объёма памяти, занимаемой датафреймом, и увеличения скорости исследования"
   ]
  },
  {
   "attachments": {},
   "cell_type": "markdown",
   "metadata": {},
   "source": [
    "### Из выщеперечисленных выводов произведем, следующее:\n",
    "- ##### Удалим столбец row_id\n",
    "- ##### Изменим типы данных во всех столбцах датафрейма df при помощи метода .astype"
   ]
  },
  {
   "cell_type": "code",
   "execution_count": 50,
   "metadata": {},
   "outputs": [],
   "source": [
    "df = df.drop('row_id', axis = 1)\n",
    "df['timestamp'] = df['timestamp'].astype('uint64')\n",
    "df['user_id'] = df['user_id'].astype('uint32')\n",
    "df['content_id'] = df['content_id'].astype('uint16')\n",
    "df['content_type_id'] = df['content_type_id'].astype('int8')\n",
    "df['task_container_id'] = df['task_container_id'].astype('uint16')\n",
    "df['user_answer'] = df['user_answer'].astype('int8')\n",
    "df['answered_correctly'] = df['answered_correctly'].astype('int8')\n",
    "df['prior_question_elapsed_time'] = df['prior_question_elapsed_time'].astype('float32')"
   ]
  },
  {
   "cell_type": "markdown",
   "metadata": {},
   "source": [
    "### Выведем обновленную информацию датафрейма при помощи метода .info"
   ]
  },
  {
   "cell_type": "code",
   "execution_count": 51,
   "metadata": {},
   "outputs": [
    {
     "name": "stdout",
     "output_type": "stream",
     "text": [
      "<class 'pandas.core.frame.DataFrame'>\n",
      "RangeIndex: 1000000 entries, 0 to 999999\n",
      "Data columns (total 9 columns):\n",
      " #   Column                          Non-Null Count    Dtype  \n",
      "---  ------                          --------------    -----  \n",
      " 0   timestamp                       1000000 non-null  uint64 \n",
      " 1   user_id                         1000000 non-null  uint32 \n",
      " 2   content_id                      1000000 non-null  uint16 \n",
      " 3   content_type_id                 1000000 non-null  int8   \n",
      " 4   task_container_id               1000000 non-null  uint16 \n",
      " 5   user_answer                     1000000 non-null  int8   \n",
      " 6   answered_correctly              1000000 non-null  int8   \n",
      " 7   prior_question_elapsed_time     976277 non-null   float32\n",
      " 8   prior_question_had_explanation  996184 non-null   object \n",
      "dtypes: float32(1), int8(3), object(1), uint16(2), uint32(1), uint64(1)\n",
      "memory usage: 29.6+ MB\n"
     ]
    }
   ],
   "source": [
    "df.info()"
   ]
  },
  {
   "cell_type": "markdown",
   "metadata": {},
   "source": [
    "### Получим во сколько раз изменился размер датафрейма"
   ]
  },
  {
   "cell_type": "code",
   "execution_count": 52,
   "metadata": {},
   "outputs": [
    {
     "name": "stdout",
     "output_type": "stream",
     "text": [
      "2.6\n"
     ]
    }
   ],
   "source": [
    "print(round(7.5 / 2.9, 1))"
   ]
  },
  {
   "attachments": {},
   "cell_type": "markdown",
   "metadata": {},
   "source": [
    "После выполненных процедур объем памяти занимаемый датафремом уменьшился в 2,6 раза"
   ]
  },
  {
   "cell_type": "markdown",
   "metadata": {},
   "source": [
    "### Рассмотрим корреляцию числовых признаков и их связь с успеваемостью студентов"
   ]
  },
  {
   "cell_type": "code",
   "execution_count": 53,
   "metadata": {},
   "outputs": [
    {
     "data": {
      "text/html": [
       "<style type=\"text/css\">\n",
       "#T_780d0_row0_col0, #T_780d0_row1_col1, #T_780d0_row2_col2, #T_780d0_row3_col3, #T_780d0_row4_col4, #T_780d0_row5_col5, #T_780d0_row6_col6, #T_780d0_row7_col7 {\n",
       "  background-color: #a9373b;\n",
       "  color: #f1f1f1;\n",
       "}\n",
       "#T_780d0_row0_col1, #T_780d0_row0_col5, #T_780d0_row1_col0, #T_780d0_row1_col2, #T_780d0_row1_col5, #T_780d0_row1_col6, #T_780d0_row2_col1, #T_780d0_row3_col4, #T_780d0_row4_col3, #T_780d0_row5_col0, #T_780d0_row5_col1, #T_780d0_row6_col1 {\n",
       "  background-color: #faf5f5;\n",
       "  color: #000000;\n",
       "}\n",
       "#T_780d0_row0_col2, #T_780d0_row2_col0 {\n",
       "  background-color: #faf3f2;\n",
       "  color: #000000;\n",
       "}\n",
       "#T_780d0_row0_col3, #T_780d0_row1_col3, #T_780d0_row3_col0, #T_780d0_row3_col1, #T_780d0_row4_col5, #T_780d0_row5_col4, #T_780d0_row5_col7, #T_780d0_row6_col7, #T_780d0_row7_col5, #T_780d0_row7_col6 {\n",
       "  background-color: #faf5f4;\n",
       "  color: #000000;\n",
       "}\n",
       "#T_780d0_row0_col4, #T_780d0_row4_col0 {\n",
       "  background-color: #deb2b0;\n",
       "  color: #000000;\n",
       "}\n",
       "#T_780d0_row0_col6, #T_780d0_row6_col0 {\n",
       "  background-color: #faf3f3;\n",
       "  color: #000000;\n",
       "}\n",
       "#T_780d0_row0_col7, #T_780d0_row1_col7, #T_780d0_row7_col0, #T_780d0_row7_col1 {\n",
       "  background-color: #faf4f3;\n",
       "  color: #000000;\n",
       "}\n",
       "#T_780d0_row1_col4, #T_780d0_row4_col1 {\n",
       "  background-color: #f2f0f2;\n",
       "  color: #000000;\n",
       "}\n",
       "#T_780d0_row2_col3, #T_780d0_row3_col2 {\n",
       "  background-color: #daa8a5;\n",
       "  color: #000000;\n",
       "}\n",
       "#T_780d0_row2_col4, #T_780d0_row4_col2 {\n",
       "  background-color: #f9eeed;\n",
       "  color: #000000;\n",
       "}\n",
       "#T_780d0_row2_col5, #T_780d0_row5_col2 {\n",
       "  background-color: #ebeaee;\n",
       "  color: #000000;\n",
       "}\n",
       "#T_780d0_row2_col6, #T_780d0_row6_col2 {\n",
       "  background-color: #d7dae4;\n",
       "  color: #000000;\n",
       "}\n",
       "#T_780d0_row2_col7, #T_780d0_row7_col2 {\n",
       "  background-color: #f1dddb;\n",
       "  color: #000000;\n",
       "}\n",
       "#T_780d0_row3_col5, #T_780d0_row5_col3 {\n",
       "  background-color: #c7cedc;\n",
       "  color: #000000;\n",
       "}\n",
       "#T_780d0_row3_col6, #T_780d0_row6_col3 {\n",
       "  background-color: #a7b6ce;\n",
       "  color: #000000;\n",
       "}\n",
       "#T_780d0_row3_col7, #T_780d0_row7_col3 {\n",
       "  background-color: #000000;\n",
       "  color: #f1f1f1;\n",
       "}\n",
       "#T_780d0_row4_col6, #T_780d0_row6_col4 {\n",
       "  background-color: #faf2f1;\n",
       "  color: #000000;\n",
       "}\n",
       "#T_780d0_row4_col7, #T_780d0_row7_col4 {\n",
       "  background-color: #f7f4f4;\n",
       "  color: #000000;\n",
       "}\n",
       "#T_780d0_row5_col6, #T_780d0_row6_col5 {\n",
       "  background-color: #f3e2e0;\n",
       "  color: #000000;\n",
       "}\n",
       "</style>\n",
       "<table id=\"T_780d0\">\n",
       "  <thead>\n",
       "    <tr>\n",
       "      <th class=\"blank level0\" >&nbsp;</th>\n",
       "      <th id=\"T_780d0_level0_col0\" class=\"col_heading level0 col0\" >timestamp</th>\n",
       "      <th id=\"T_780d0_level0_col1\" class=\"col_heading level0 col1\" >user_id</th>\n",
       "      <th id=\"T_780d0_level0_col2\" class=\"col_heading level0 col2\" >content_id</th>\n",
       "      <th id=\"T_780d0_level0_col3\" class=\"col_heading level0 col3\" >content_type_id</th>\n",
       "      <th id=\"T_780d0_level0_col4\" class=\"col_heading level0 col4\" >task_container_id</th>\n",
       "      <th id=\"T_780d0_level0_col5\" class=\"col_heading level0 col5\" >user_answer</th>\n",
       "      <th id=\"T_780d0_level0_col6\" class=\"col_heading level0 col6\" >answered_correctly</th>\n",
       "      <th id=\"T_780d0_level0_col7\" class=\"col_heading level0 col7\" >prior_question_elapsed_time</th>\n",
       "    </tr>\n",
       "  </thead>\n",
       "  <tbody>\n",
       "    <tr>\n",
       "      <th id=\"T_780d0_level0_row0\" class=\"row_heading level0 row0\" >timestamp</th>\n",
       "      <td id=\"T_780d0_row0_col0\" class=\"data row0 col0\" >1.000000</td>\n",
       "      <td id=\"T_780d0_row0_col1\" class=\"data row0 col1\" >-0.001041</td>\n",
       "      <td id=\"T_780d0_row0_col2\" class=\"data row0 col2\" >0.032189</td>\n",
       "      <td id=\"T_780d0_row0_col3\" class=\"data row0 col3\" >0.007441</td>\n",
       "      <td id=\"T_780d0_row0_col4\" class=\"data row0 col4\" >0.364525</td>\n",
       "      <td id=\"T_780d0_row0_col5\" class=\"data row0 col5\" >-0.001796</td>\n",
       "      <td id=\"T_780d0_row0_col6\" class=\"data row0 col6\" >0.027571</td>\n",
       "      <td id=\"T_780d0_row0_col7\" class=\"data row0 col7\" >0.016144</td>\n",
       "    </tr>\n",
       "    <tr>\n",
       "      <th id=\"T_780d0_level0_row1\" class=\"row_heading level0 row1\" >user_id</th>\n",
       "      <td id=\"T_780d0_row1_col0\" class=\"data row1 col0\" >-0.001041</td>\n",
       "      <td id=\"T_780d0_row1_col1\" class=\"data row1 col1\" >1.000000</td>\n",
       "      <td id=\"T_780d0_row1_col2\" class=\"data row1 col2\" >-0.007103</td>\n",
       "      <td id=\"T_780d0_row1_col3\" class=\"data row1 col3\" >0.004102</td>\n",
       "      <td id=\"T_780d0_row1_col4\" class=\"data row1 col4\" >-0.072862</td>\n",
       "      <td id=\"T_780d0_row1_col5\" class=\"data row1 col5\" >-0.002361</td>\n",
       "      <td id=\"T_780d0_row1_col6\" class=\"data row1 col6\" >-0.014776</td>\n",
       "      <td id=\"T_780d0_row1_col7\" class=\"data row1 col7\" >0.016981</td>\n",
       "    </tr>\n",
       "    <tr>\n",
       "      <th id=\"T_780d0_level0_row2\" class=\"row_heading level0 row2\" >content_id</th>\n",
       "      <td id=\"T_780d0_row2_col0\" class=\"data row2 col0\" >0.032189</td>\n",
       "      <td id=\"T_780d0_row2_col1\" class=\"data row2 col1\" >-0.007103</td>\n",
       "      <td id=\"T_780d0_row2_col2\" class=\"data row2 col2\" >1.000000</td>\n",
       "      <td id=\"T_780d0_row2_col3\" class=\"data row2 col3\" >0.420121</td>\n",
       "      <td id=\"T_780d0_row2_col4\" class=\"data row2 col4\" >0.062908</td>\n",
       "      <td id=\"T_780d0_row2_col5\" class=\"data row2 col5\" >-0.110374</td>\n",
       "      <td id=\"T_780d0_row2_col6\" class=\"data row2 col6\" >-0.203327</td>\n",
       "      <td id=\"T_780d0_row2_col7\" class=\"data row2 col7\" >0.149778</td>\n",
       "    </tr>\n",
       "    <tr>\n",
       "      <th id=\"T_780d0_level0_row3\" class=\"row_heading level0 row3\" >content_type_id</th>\n",
       "      <td id=\"T_780d0_row3_col0\" class=\"data row3 col0\" >0.007441</td>\n",
       "      <td id=\"T_780d0_row3_col1\" class=\"data row3 col1\" >0.004102</td>\n",
       "      <td id=\"T_780d0_row3_col2\" class=\"data row3 col2\" >0.420121</td>\n",
       "      <td id=\"T_780d0_row3_col3\" class=\"data row3 col3\" >1.000000</td>\n",
       "      <td id=\"T_780d0_row3_col4\" class=\"data row3 col4\" >-0.013024</td>\n",
       "      <td id=\"T_780d0_row3_col5\" class=\"data row3 col5\" >-0.283418</td>\n",
       "      <td id=\"T_780d0_row3_col6\" class=\"data row3 col6\" >-0.438788</td>\n",
       "      <td id=\"T_780d0_row3_col7\" class=\"data row3 col7\" >nan</td>\n",
       "    </tr>\n",
       "    <tr>\n",
       "      <th id=\"T_780d0_level0_row4\" class=\"row_heading level0 row4\" >task_container_id</th>\n",
       "      <td id=\"T_780d0_row4_col0\" class=\"data row4 col0\" >0.364525</td>\n",
       "      <td id=\"T_780d0_row4_col1\" class=\"data row4 col1\" >-0.072862</td>\n",
       "      <td id=\"T_780d0_row4_col2\" class=\"data row4 col2\" >0.062908</td>\n",
       "      <td id=\"T_780d0_row4_col3\" class=\"data row4 col3\" >-0.013024</td>\n",
       "      <td id=\"T_780d0_row4_col4\" class=\"data row4 col4\" >1.000000</td>\n",
       "      <td id=\"T_780d0_row4_col5\" class=\"data row4 col5\" >0.012135</td>\n",
       "      <td id=\"T_780d0_row4_col6\" class=\"data row4 col6\" >0.039130</td>\n",
       "      <td id=\"T_780d0_row4_col7\" class=\"data row4 col7\" >-0.043670</td>\n",
       "    </tr>\n",
       "    <tr>\n",
       "      <th id=\"T_780d0_level0_row5\" class=\"row_heading level0 row5\" >user_answer</th>\n",
       "      <td id=\"T_780d0_row5_col0\" class=\"data row5 col0\" >-0.001796</td>\n",
       "      <td id=\"T_780d0_row5_col1\" class=\"data row5 col1\" >-0.002361</td>\n",
       "      <td id=\"T_780d0_row5_col2\" class=\"data row5 col2\" >-0.110374</td>\n",
       "      <td id=\"T_780d0_row5_col3\" class=\"data row5 col3\" >-0.283418</td>\n",
       "      <td id=\"T_780d0_row5_col4\" class=\"data row5 col4\" >0.012135</td>\n",
       "      <td id=\"T_780d0_row5_col5\" class=\"data row5 col5\" >1.000000</td>\n",
       "      <td id=\"T_780d0_row5_col6\" class=\"data row5 col6\" >0.126721</td>\n",
       "      <td id=\"T_780d0_row5_col7\" class=\"data row5 col7\" >0.014283</td>\n",
       "    </tr>\n",
       "    <tr>\n",
       "      <th id=\"T_780d0_level0_row6\" class=\"row_heading level0 row6\" >answered_correctly</th>\n",
       "      <td id=\"T_780d0_row6_col0\" class=\"data row6 col0\" >0.027571</td>\n",
       "      <td id=\"T_780d0_row6_col1\" class=\"data row6 col1\" >-0.014776</td>\n",
       "      <td id=\"T_780d0_row6_col2\" class=\"data row6 col2\" >-0.203327</td>\n",
       "      <td id=\"T_780d0_row6_col3\" class=\"data row6 col3\" >-0.438788</td>\n",
       "      <td id=\"T_780d0_row6_col4\" class=\"data row6 col4\" >0.039130</td>\n",
       "      <td id=\"T_780d0_row6_col5\" class=\"data row6 col5\" >0.126721</td>\n",
       "      <td id=\"T_780d0_row6_col6\" class=\"data row6 col6\" >1.000000</td>\n",
       "      <td id=\"T_780d0_row6_col7\" class=\"data row6 col7\" >0.003251</td>\n",
       "    </tr>\n",
       "    <tr>\n",
       "      <th id=\"T_780d0_level0_row7\" class=\"row_heading level0 row7\" >prior_question_elapsed_time</th>\n",
       "      <td id=\"T_780d0_row7_col0\" class=\"data row7 col0\" >0.016144</td>\n",
       "      <td id=\"T_780d0_row7_col1\" class=\"data row7 col1\" >0.016981</td>\n",
       "      <td id=\"T_780d0_row7_col2\" class=\"data row7 col2\" >0.149778</td>\n",
       "      <td id=\"T_780d0_row7_col3\" class=\"data row7 col3\" >nan</td>\n",
       "      <td id=\"T_780d0_row7_col4\" class=\"data row7 col4\" >-0.043670</td>\n",
       "      <td id=\"T_780d0_row7_col5\" class=\"data row7 col5\" >0.014283</td>\n",
       "      <td id=\"T_780d0_row7_col6\" class=\"data row7 col6\" >0.003251</td>\n",
       "      <td id=\"T_780d0_row7_col7\" class=\"data row7 col7\" >1.000000</td>\n",
       "    </tr>\n",
       "  </tbody>\n",
       "</table>\n"
      ],
      "text/plain": [
       "<pandas.io.formats.style.Styler at 0x2170a8d5840>"
      ]
     },
     "execution_count": 53,
     "metadata": {},
     "output_type": "execute_result"
    }
   ],
   "source": [
    "cm = sns.color_palette(\"vlag\", as_cmap = True)\n",
    "df_corr = df.loc[:,['timestamp', 'user_id', 'content_id', 'content_type_id', 'task_container_id', 'user_answer', 'answered_correctly', 'prior_question_elapsed_time']]\n",
    "df_corr.corr().style.background_gradient(cmap = cm, vmin = -1, vmax = 1)"
   ]
  },
  {
   "cell_type": "markdown",
   "metadata": {},
   "source": [
    "### Добавляем столбец соотношения кол-ва правильных ответов к количеству ответов студентов и выведем обновленную корреляцию числовых признаков"
   ]
  },
  {
   "cell_type": "code",
   "execution_count": 54,
   "metadata": {},
   "outputs": [
    {
     "data": {
      "text/html": [
       "<style type=\"text/css\">\n",
       "#T_5b1c8_row0_col0, #T_5b1c8_row1_col1, #T_5b1c8_row2_col2, #T_5b1c8_row3_col3, #T_5b1c8_row4_col4, #T_5b1c8_row5_col5, #T_5b1c8_row6_col6, #T_5b1c8_row7_col7, #T_5b1c8_row8_col8 {\n",
       "  background-color: #a9373b;\n",
       "  color: #f1f1f1;\n",
       "}\n",
       "#T_5b1c8_row0_col1, #T_5b1c8_row0_col5, #T_5b1c8_row1_col0, #T_5b1c8_row1_col2, #T_5b1c8_row1_col5, #T_5b1c8_row1_col6, #T_5b1c8_row1_col8, #T_5b1c8_row2_col1, #T_5b1c8_row3_col4, #T_5b1c8_row4_col3, #T_5b1c8_row5_col0, #T_5b1c8_row5_col1, #T_5b1c8_row6_col1, #T_5b1c8_row7_col8, #T_5b1c8_row8_col1, #T_5b1c8_row8_col7 {\n",
       "  background-color: #faf5f5;\n",
       "  color: #000000;\n",
       "}\n",
       "#T_5b1c8_row0_col2, #T_5b1c8_row0_col8, #T_5b1c8_row2_col0, #T_5b1c8_row8_col0 {\n",
       "  background-color: #faf3f2;\n",
       "  color: #000000;\n",
       "}\n",
       "#T_5b1c8_row0_col3, #T_5b1c8_row1_col3, #T_5b1c8_row3_col0, #T_5b1c8_row3_col1, #T_5b1c8_row4_col5, #T_5b1c8_row5_col4, #T_5b1c8_row5_col7, #T_5b1c8_row6_col7, #T_5b1c8_row7_col5, #T_5b1c8_row7_col6 {\n",
       "  background-color: #faf5f4;\n",
       "  color: #000000;\n",
       "}\n",
       "#T_5b1c8_row0_col4, #T_5b1c8_row4_col0 {\n",
       "  background-color: #deb2b0;\n",
       "  color: #000000;\n",
       "}\n",
       "#T_5b1c8_row0_col6, #T_5b1c8_row6_col0 {\n",
       "  background-color: #faf3f3;\n",
       "  color: #000000;\n",
       "}\n",
       "#T_5b1c8_row0_col7, #T_5b1c8_row1_col7, #T_5b1c8_row4_col8, #T_5b1c8_row7_col0, #T_5b1c8_row7_col1, #T_5b1c8_row8_col4 {\n",
       "  background-color: #faf4f3;\n",
       "  color: #000000;\n",
       "}\n",
       "#T_5b1c8_row1_col4, #T_5b1c8_row4_col1 {\n",
       "  background-color: #f2f0f2;\n",
       "  color: #000000;\n",
       "}\n",
       "#T_5b1c8_row2_col3, #T_5b1c8_row3_col2 {\n",
       "  background-color: #daa8a5;\n",
       "  color: #000000;\n",
       "}\n",
       "#T_5b1c8_row2_col4, #T_5b1c8_row4_col2 {\n",
       "  background-color: #f9eeed;\n",
       "  color: #000000;\n",
       "}\n",
       "#T_5b1c8_row2_col5, #T_5b1c8_row5_col2 {\n",
       "  background-color: #ebeaee;\n",
       "  color: #000000;\n",
       "}\n",
       "#T_5b1c8_row2_col6, #T_5b1c8_row6_col2 {\n",
       "  background-color: #d7dae4;\n",
       "  color: #000000;\n",
       "}\n",
       "#T_5b1c8_row2_col7, #T_5b1c8_row7_col2 {\n",
       "  background-color: #f1dddb;\n",
       "  color: #000000;\n",
       "}\n",
       "#T_5b1c8_row2_col8, #T_5b1c8_row8_col2 {\n",
       "  background-color: #f7ebea;\n",
       "  color: #000000;\n",
       "}\n",
       "#T_5b1c8_row3_col5, #T_5b1c8_row5_col3 {\n",
       "  background-color: #c7cedc;\n",
       "  color: #000000;\n",
       "}\n",
       "#T_5b1c8_row3_col6, #T_5b1c8_row6_col3 {\n",
       "  background-color: #a7b6ce;\n",
       "  color: #000000;\n",
       "}\n",
       "#T_5b1c8_row3_col7, #T_5b1c8_row7_col3 {\n",
       "  background-color: #000000;\n",
       "  color: #f1f1f1;\n",
       "}\n",
       "#T_5b1c8_row3_col8, #T_5b1c8_row8_col3 {\n",
       "  background-color: #e8cac8;\n",
       "  color: #000000;\n",
       "}\n",
       "#T_5b1c8_row4_col6, #T_5b1c8_row6_col4 {\n",
       "  background-color: #faf2f1;\n",
       "  color: #000000;\n",
       "}\n",
       "#T_5b1c8_row4_col7, #T_5b1c8_row7_col4 {\n",
       "  background-color: #f7f4f4;\n",
       "  color: #000000;\n",
       "}\n",
       "#T_5b1c8_row5_col6, #T_5b1c8_row6_col5 {\n",
       "  background-color: #f3e2e0;\n",
       "  color: #000000;\n",
       "}\n",
       "#T_5b1c8_row5_col8, #T_5b1c8_row8_col5 {\n",
       "  background-color: #95a9c8;\n",
       "  color: #f1f1f1;\n",
       "}\n",
       "#T_5b1c8_row6_col8, #T_5b1c8_row8_col6 {\n",
       "  background-color: #d1918e;\n",
       "  color: #f1f1f1;\n",
       "}\n",
       "</style>\n",
       "<table id=\"T_5b1c8\">\n",
       "  <thead>\n",
       "    <tr>\n",
       "      <th class=\"blank level0\" >&nbsp;</th>\n",
       "      <th id=\"T_5b1c8_level0_col0\" class=\"col_heading level0 col0\" >timestamp</th>\n",
       "      <th id=\"T_5b1c8_level0_col1\" class=\"col_heading level0 col1\" >user_id</th>\n",
       "      <th id=\"T_5b1c8_level0_col2\" class=\"col_heading level0 col2\" >content_id</th>\n",
       "      <th id=\"T_5b1c8_level0_col3\" class=\"col_heading level0 col3\" >content_type_id</th>\n",
       "      <th id=\"T_5b1c8_level0_col4\" class=\"col_heading level0 col4\" >task_container_id</th>\n",
       "      <th id=\"T_5b1c8_level0_col5\" class=\"col_heading level0 col5\" >user_answer</th>\n",
       "      <th id=\"T_5b1c8_level0_col6\" class=\"col_heading level0 col6\" >answered_correctly</th>\n",
       "      <th id=\"T_5b1c8_level0_col7\" class=\"col_heading level0 col7\" >prior_question_elapsed_time</th>\n",
       "      <th id=\"T_5b1c8_level0_col8\" class=\"col_heading level0 col8\" >cor_ratio</th>\n",
       "    </tr>\n",
       "  </thead>\n",
       "  <tbody>\n",
       "    <tr>\n",
       "      <th id=\"T_5b1c8_level0_row0\" class=\"row_heading level0 row0\" >timestamp</th>\n",
       "      <td id=\"T_5b1c8_row0_col0\" class=\"data row0 col0\" >1.000000</td>\n",
       "      <td id=\"T_5b1c8_row0_col1\" class=\"data row0 col1\" >-0.001041</td>\n",
       "      <td id=\"T_5b1c8_row0_col2\" class=\"data row0 col2\" >0.032189</td>\n",
       "      <td id=\"T_5b1c8_row0_col3\" class=\"data row0 col3\" >0.007441</td>\n",
       "      <td id=\"T_5b1c8_row0_col4\" class=\"data row0 col4\" >0.364525</td>\n",
       "      <td id=\"T_5b1c8_row0_col5\" class=\"data row0 col5\" >-0.001796</td>\n",
       "      <td id=\"T_5b1c8_row0_col6\" class=\"data row0 col6\" >0.027571</td>\n",
       "      <td id=\"T_5b1c8_row0_col7\" class=\"data row0 col7\" >0.016144</td>\n",
       "      <td id=\"T_5b1c8_row0_col8\" class=\"data row0 col8\" >0.032882</td>\n",
       "    </tr>\n",
       "    <tr>\n",
       "      <th id=\"T_5b1c8_level0_row1\" class=\"row_heading level0 row1\" >user_id</th>\n",
       "      <td id=\"T_5b1c8_row1_col0\" class=\"data row1 col0\" >-0.001041</td>\n",
       "      <td id=\"T_5b1c8_row1_col1\" class=\"data row1 col1\" >1.000000</td>\n",
       "      <td id=\"T_5b1c8_row1_col2\" class=\"data row1 col2\" >-0.007103</td>\n",
       "      <td id=\"T_5b1c8_row1_col3\" class=\"data row1 col3\" >0.004102</td>\n",
       "      <td id=\"T_5b1c8_row1_col4\" class=\"data row1 col4\" >-0.072862</td>\n",
       "      <td id=\"T_5b1c8_row1_col5\" class=\"data row1 col5\" >-0.002361</td>\n",
       "      <td id=\"T_5b1c8_row1_col6\" class=\"data row1 col6\" >-0.014776</td>\n",
       "      <td id=\"T_5b1c8_row1_col7\" class=\"data row1 col7\" >0.016981</td>\n",
       "      <td id=\"T_5b1c8_row1_col8\" class=\"data row1 col8\" >-0.008364</td>\n",
       "    </tr>\n",
       "    <tr>\n",
       "      <th id=\"T_5b1c8_level0_row2\" class=\"row_heading level0 row2\" >content_id</th>\n",
       "      <td id=\"T_5b1c8_row2_col0\" class=\"data row2 col0\" >0.032189</td>\n",
       "      <td id=\"T_5b1c8_row2_col1\" class=\"data row2 col1\" >-0.007103</td>\n",
       "      <td id=\"T_5b1c8_row2_col2\" class=\"data row2 col2\" >1.000000</td>\n",
       "      <td id=\"T_5b1c8_row2_col3\" class=\"data row2 col3\" >0.420121</td>\n",
       "      <td id=\"T_5b1c8_row2_col4\" class=\"data row2 col4\" >0.062908</td>\n",
       "      <td id=\"T_5b1c8_row2_col5\" class=\"data row2 col5\" >-0.110374</td>\n",
       "      <td id=\"T_5b1c8_row2_col6\" class=\"data row2 col6\" >-0.203327</td>\n",
       "      <td id=\"T_5b1c8_row2_col7\" class=\"data row2 col7\" >0.149778</td>\n",
       "      <td id=\"T_5b1c8_row2_col8\" class=\"data row2 col8\" >0.080741</td>\n",
       "    </tr>\n",
       "    <tr>\n",
       "      <th id=\"T_5b1c8_level0_row3\" class=\"row_heading level0 row3\" >content_type_id</th>\n",
       "      <td id=\"T_5b1c8_row3_col0\" class=\"data row3 col0\" >0.007441</td>\n",
       "      <td id=\"T_5b1c8_row3_col1\" class=\"data row3 col1\" >0.004102</td>\n",
       "      <td id=\"T_5b1c8_row3_col2\" class=\"data row3 col2\" >0.420121</td>\n",
       "      <td id=\"T_5b1c8_row3_col3\" class=\"data row3 col3\" >1.000000</td>\n",
       "      <td id=\"T_5b1c8_row3_col4\" class=\"data row3 col4\" >-0.013024</td>\n",
       "      <td id=\"T_5b1c8_row3_col5\" class=\"data row3 col5\" >-0.283418</td>\n",
       "      <td id=\"T_5b1c8_row3_col6\" class=\"data row3 col6\" >-0.438788</td>\n",
       "      <td id=\"T_5b1c8_row3_col7\" class=\"data row3 col7\" >nan</td>\n",
       "      <td id=\"T_5b1c8_row3_col8\" class=\"data row3 col8\" >0.249123</td>\n",
       "    </tr>\n",
       "    <tr>\n",
       "      <th id=\"T_5b1c8_level0_row4\" class=\"row_heading level0 row4\" >task_container_id</th>\n",
       "      <td id=\"T_5b1c8_row4_col0\" class=\"data row4 col0\" >0.364525</td>\n",
       "      <td id=\"T_5b1c8_row4_col1\" class=\"data row4 col1\" >-0.072862</td>\n",
       "      <td id=\"T_5b1c8_row4_col2\" class=\"data row4 col2\" >0.062908</td>\n",
       "      <td id=\"T_5b1c8_row4_col3\" class=\"data row4 col3\" >-0.013024</td>\n",
       "      <td id=\"T_5b1c8_row4_col4\" class=\"data row4 col4\" >1.000000</td>\n",
       "      <td id=\"T_5b1c8_row4_col5\" class=\"data row4 col5\" >0.012135</td>\n",
       "      <td id=\"T_5b1c8_row4_col6\" class=\"data row4 col6\" >0.039130</td>\n",
       "      <td id=\"T_5b1c8_row4_col7\" class=\"data row4 col7\" >-0.043670</td>\n",
       "      <td id=\"T_5b1c8_row4_col8\" class=\"data row4 col8\" >0.023179</td>\n",
       "    </tr>\n",
       "    <tr>\n",
       "      <th id=\"T_5b1c8_level0_row5\" class=\"row_heading level0 row5\" >user_answer</th>\n",
       "      <td id=\"T_5b1c8_row5_col0\" class=\"data row5 col0\" >-0.001796</td>\n",
       "      <td id=\"T_5b1c8_row5_col1\" class=\"data row5 col1\" >-0.002361</td>\n",
       "      <td id=\"T_5b1c8_row5_col2\" class=\"data row5 col2\" >-0.110374</td>\n",
       "      <td id=\"T_5b1c8_row5_col3\" class=\"data row5 col3\" >-0.283418</td>\n",
       "      <td id=\"T_5b1c8_row5_col4\" class=\"data row5 col4\" >0.012135</td>\n",
       "      <td id=\"T_5b1c8_row5_col5\" class=\"data row5 col5\" >1.000000</td>\n",
       "      <td id=\"T_5b1c8_row5_col6\" class=\"data row5 col6\" >0.126721</td>\n",
       "      <td id=\"T_5b1c8_row5_col7\" class=\"data row5 col7\" >0.014283</td>\n",
       "      <td id=\"T_5b1c8_row5_col8\" class=\"data row5 col8\" >-0.527333</td>\n",
       "    </tr>\n",
       "    <tr>\n",
       "      <th id=\"T_5b1c8_level0_row6\" class=\"row_heading level0 row6\" >answered_correctly</th>\n",
       "      <td id=\"T_5b1c8_row6_col0\" class=\"data row6 col0\" >0.027571</td>\n",
       "      <td id=\"T_5b1c8_row6_col1\" class=\"data row6 col1\" >-0.014776</td>\n",
       "      <td id=\"T_5b1c8_row6_col2\" class=\"data row6 col2\" >-0.203327</td>\n",
       "      <td id=\"T_5b1c8_row6_col3\" class=\"data row6 col3\" >-0.438788</td>\n",
       "      <td id=\"T_5b1c8_row6_col4\" class=\"data row6 col4\" >0.039130</td>\n",
       "      <td id=\"T_5b1c8_row6_col5\" class=\"data row6 col5\" >0.126721</td>\n",
       "      <td id=\"T_5b1c8_row6_col6\" class=\"data row6 col6\" >1.000000</td>\n",
       "      <td id=\"T_5b1c8_row6_col7\" class=\"data row6 col7\" >0.003251</td>\n",
       "      <td id=\"T_5b1c8_row6_col8\" class=\"data row6 col8\" >0.531547</td>\n",
       "    </tr>\n",
       "    <tr>\n",
       "      <th id=\"T_5b1c8_level0_row7\" class=\"row_heading level0 row7\" >prior_question_elapsed_time</th>\n",
       "      <td id=\"T_5b1c8_row7_col0\" class=\"data row7 col0\" >0.016144</td>\n",
       "      <td id=\"T_5b1c8_row7_col1\" class=\"data row7 col1\" >0.016981</td>\n",
       "      <td id=\"T_5b1c8_row7_col2\" class=\"data row7 col2\" >0.149778</td>\n",
       "      <td id=\"T_5b1c8_row7_col3\" class=\"data row7 col3\" >nan</td>\n",
       "      <td id=\"T_5b1c8_row7_col4\" class=\"data row7 col4\" >-0.043670</td>\n",
       "      <td id=\"T_5b1c8_row7_col5\" class=\"data row7 col5\" >0.014283</td>\n",
       "      <td id=\"T_5b1c8_row7_col6\" class=\"data row7 col6\" >0.003251</td>\n",
       "      <td id=\"T_5b1c8_row7_col7\" class=\"data row7 col7\" >1.000000</td>\n",
       "      <td id=\"T_5b1c8_row7_col8\" class=\"data row7 col8\" >-0.006744</td>\n",
       "    </tr>\n",
       "    <tr>\n",
       "      <th id=\"T_5b1c8_level0_row8\" class=\"row_heading level0 row8\" >cor_ratio</th>\n",
       "      <td id=\"T_5b1c8_row8_col0\" class=\"data row8 col0\" >0.032882</td>\n",
       "      <td id=\"T_5b1c8_row8_col1\" class=\"data row8 col1\" >-0.008364</td>\n",
       "      <td id=\"T_5b1c8_row8_col2\" class=\"data row8 col2\" >0.080741</td>\n",
       "      <td id=\"T_5b1c8_row8_col3\" class=\"data row8 col3\" >0.249123</td>\n",
       "      <td id=\"T_5b1c8_row8_col4\" class=\"data row8 col4\" >0.023179</td>\n",
       "      <td id=\"T_5b1c8_row8_col5\" class=\"data row8 col5\" >-0.527333</td>\n",
       "      <td id=\"T_5b1c8_row8_col6\" class=\"data row8 col6\" >0.531547</td>\n",
       "      <td id=\"T_5b1c8_row8_col7\" class=\"data row8 col7\" >-0.006744</td>\n",
       "      <td id=\"T_5b1c8_row8_col8\" class=\"data row8 col8\" >1.000000</td>\n",
       "    </tr>\n",
       "  </tbody>\n",
       "</table>\n"
      ],
      "text/plain": [
       "<pandas.io.formats.style.Styler at 0x2170a270cd0>"
      ]
     },
     "execution_count": 54,
     "metadata": {},
     "output_type": "execute_result"
    }
   ],
   "source": [
    "df_corr['cor_ratio'] = df_corr.answered_correctly / df_corr.user_answer\n",
    "df_corr.corr().style.background_gradient(cmap = cm, vmin = -1, vmax = 1)"
   ]
  },
  {
   "cell_type": "markdown",
   "metadata": {},
   "source": [
    "### Удаляем ненужные столбцы и выведем обновленную корреляцию числовых признаков"
   ]
  },
  {
   "cell_type": "code",
   "execution_count": 55,
   "metadata": {},
   "outputs": [
    {
     "data": {
      "text/html": [
       "<style type=\"text/css\">\n",
       "#T_a2ff5_row0_col0, #T_a2ff5_row1_col1, #T_a2ff5_row2_col2, #T_a2ff5_row3_col3 {\n",
       "  background-color: #a9373b;\n",
       "  color: #f1f1f1;\n",
       "}\n",
       "#T_a2ff5_row0_col1, #T_a2ff5_row1_col0 {\n",
       "  background-color: #c7cedc;\n",
       "  color: #000000;\n",
       "}\n",
       "#T_a2ff5_row0_col2, #T_a2ff5_row2_col0 {\n",
       "  background-color: #a7b6ce;\n",
       "  color: #000000;\n",
       "}\n",
       "#T_a2ff5_row0_col3, #T_a2ff5_row3_col0 {\n",
       "  background-color: #e8cac8;\n",
       "  color: #000000;\n",
       "}\n",
       "#T_a2ff5_row1_col2, #T_a2ff5_row2_col1 {\n",
       "  background-color: #f3e2e0;\n",
       "  color: #000000;\n",
       "}\n",
       "#T_a2ff5_row1_col3, #T_a2ff5_row3_col1 {\n",
       "  background-color: #95a9c8;\n",
       "  color: #f1f1f1;\n",
       "}\n",
       "#T_a2ff5_row2_col3, #T_a2ff5_row3_col2 {\n",
       "  background-color: #d1918e;\n",
       "  color: #f1f1f1;\n",
       "}\n",
       "</style>\n",
       "<table id=\"T_a2ff5\">\n",
       "  <thead>\n",
       "    <tr>\n",
       "      <th class=\"blank level0\" >&nbsp;</th>\n",
       "      <th id=\"T_a2ff5_level0_col0\" class=\"col_heading level0 col0\" >content_type_id</th>\n",
       "      <th id=\"T_a2ff5_level0_col1\" class=\"col_heading level0 col1\" >user_answer</th>\n",
       "      <th id=\"T_a2ff5_level0_col2\" class=\"col_heading level0 col2\" >answered_correctly</th>\n",
       "      <th id=\"T_a2ff5_level0_col3\" class=\"col_heading level0 col3\" >cor_ratio</th>\n",
       "    </tr>\n",
       "  </thead>\n",
       "  <tbody>\n",
       "    <tr>\n",
       "      <th id=\"T_a2ff5_level0_row0\" class=\"row_heading level0 row0\" >content_type_id</th>\n",
       "      <td id=\"T_a2ff5_row0_col0\" class=\"data row0 col0\" >1.000000</td>\n",
       "      <td id=\"T_a2ff5_row0_col1\" class=\"data row0 col1\" >-0.283418</td>\n",
       "      <td id=\"T_a2ff5_row0_col2\" class=\"data row0 col2\" >-0.438788</td>\n",
       "      <td id=\"T_a2ff5_row0_col3\" class=\"data row0 col3\" >0.249123</td>\n",
       "    </tr>\n",
       "    <tr>\n",
       "      <th id=\"T_a2ff5_level0_row1\" class=\"row_heading level0 row1\" >user_answer</th>\n",
       "      <td id=\"T_a2ff5_row1_col0\" class=\"data row1 col0\" >-0.283418</td>\n",
       "      <td id=\"T_a2ff5_row1_col1\" class=\"data row1 col1\" >1.000000</td>\n",
       "      <td id=\"T_a2ff5_row1_col2\" class=\"data row1 col2\" >0.126721</td>\n",
       "      <td id=\"T_a2ff5_row1_col3\" class=\"data row1 col3\" >-0.527333</td>\n",
       "    </tr>\n",
       "    <tr>\n",
       "      <th id=\"T_a2ff5_level0_row2\" class=\"row_heading level0 row2\" >answered_correctly</th>\n",
       "      <td id=\"T_a2ff5_row2_col0\" class=\"data row2 col0\" >-0.438788</td>\n",
       "      <td id=\"T_a2ff5_row2_col1\" class=\"data row2 col1\" >0.126721</td>\n",
       "      <td id=\"T_a2ff5_row2_col2\" class=\"data row2 col2\" >1.000000</td>\n",
       "      <td id=\"T_a2ff5_row2_col3\" class=\"data row2 col3\" >0.531547</td>\n",
       "    </tr>\n",
       "    <tr>\n",
       "      <th id=\"T_a2ff5_level0_row3\" class=\"row_heading level0 row3\" >cor_ratio</th>\n",
       "      <td id=\"T_a2ff5_row3_col0\" class=\"data row3 col0\" >0.249123</td>\n",
       "      <td id=\"T_a2ff5_row3_col1\" class=\"data row3 col1\" >-0.527333</td>\n",
       "      <td id=\"T_a2ff5_row3_col2\" class=\"data row3 col2\" >0.531547</td>\n",
       "      <td id=\"T_a2ff5_row3_col3\" class=\"data row3 col3\" >1.000000</td>\n",
       "    </tr>\n",
       "  </tbody>\n",
       "</table>\n"
      ],
      "text/plain": [
       "<pandas.io.formats.style.Styler at 0x2170a53d780>"
      ]
     },
     "execution_count": 55,
     "metadata": {},
     "output_type": "execute_result"
    }
   ],
   "source": [
    "df_corr.drop(df_corr.columns[[0, 1, 2, 4, 7]], axis = 1, inplace = True)\n",
    "df_corr.corr().style.background_gradient(cmap = cm, vmin = -1, vmax = 1)"
   ]
  },
  {
   "cell_type": "markdown",
   "metadata": {},
   "source": [
    "### Теперь выведем распределение успеваемости студентов"
   ]
  },
  {
   "cell_type": "code",
   "execution_count": 56,
   "metadata": {},
   "outputs": [
    {
     "data": {
      "text/plain": [
       "<AxesSubplot: xlabel='cor_ratio', ylabel='Count'>"
      ]
     },
     "execution_count": 56,
     "metadata": {},
     "output_type": "execute_result"
    },
    {
     "data": {
      "image/png": "[encoded data removed]",
      "text/plain": [
       "<Figure size 640x480 with 1 Axes>"
      ]
     },
     "metadata": {},
     "output_type": "display_data"
    }
   ],
   "source": [
    "sns.histplot(data = df_corr, x = 'cor_ratio', hue = 'content_type_id', bins = 10)"
   ]
  },
  {
   "cell_type": "markdown",
   "metadata": {},
   "source": [
    "### По представленной корреляции числовых признаков видно, что помимо исходных для неё признаков успеваемость слабо зависит от типа контента (вопрос или лекция)."
   ]
  },
  {
   "cell_type": "markdown",
   "metadata": {},
   "source": [
    "### Рассмотрим статистику ответов студентов  "
   ]
  },
  {
   "cell_type": "markdown",
   "metadata": {},
   "source": [
    "##### Произведем поиск уникальных индетификаторов студентов"
   ]
  },
  {
   "cell_type": "code",
   "execution_count": 57,
   "metadata": {},
   "outputs": [
    {
     "data": {
      "text/plain": [
       "user_id    3824\n",
       "dtype: int64"
      ]
     },
     "execution_count": 57,
     "metadata": {},
     "output_type": "execute_result"
    }
   ],
   "source": [
    "df.agg({'user_id': pd.Series.nunique}) "
   ]
  },
  {
   "cell_type": "markdown",
   "metadata": {},
   "source": [
    "##### Сгруппируем общее кол-во ответов и кол-во правильных ответов каждого студента по его идентификатору в датафрейм unique_df"
   ]
  },
  {
   "cell_type": "code",
   "execution_count": 58,
   "metadata": {},
   "outputs": [
    {
     "data": {
      "text/html": [
       "<div>\n",
       "<style scoped>\n",
       "    .dataframe tbody tr th:only-of-type {\n",
       "        vertical-align: middle;\n",
       "    }\n",
       "\n",
       "    .dataframe tbody tr th {\n",
       "        vertical-align: top;\n",
       "    }\n",
       "\n",
       "    .dataframe thead th {\n",
       "        text-align: right;\n",
       "    }\n",
       "</style>\n",
       "<table border=\"1\" class=\"dataframe\">\n",
       "  <thead>\n",
       "    <tr style=\"text-align: right;\">\n",
       "      <th></th>\n",
       "      <th>user_id</th>\n",
       "      <th>user_answer</th>\n",
       "      <th>answered_correctly</th>\n",
       "    </tr>\n",
       "  </thead>\n",
       "  <tbody>\n",
       "    <tr>\n",
       "      <th>0</th>\n",
       "      <td>115</td>\n",
       "      <td>72</td>\n",
       "      <td>32</td>\n",
       "    </tr>\n",
       "    <tr>\n",
       "      <th>1</th>\n",
       "      <td>124</td>\n",
       "      <td>49</td>\n",
       "      <td>7</td>\n",
       "    </tr>\n",
       "    <tr>\n",
       "      <th>2</th>\n",
       "      <td>2746</td>\n",
       "      <td>31</td>\n",
       "      <td>10</td>\n",
       "    </tr>\n",
       "    <tr>\n",
       "      <th>3</th>\n",
       "      <td>5382</td>\n",
       "      <td>169</td>\n",
       "      <td>81</td>\n",
       "    </tr>\n",
       "    <tr>\n",
       "      <th>4</th>\n",
       "      <td>8623</td>\n",
       "      <td>149</td>\n",
       "      <td>67</td>\n",
       "    </tr>\n",
       "  </tbody>\n",
       "</table>\n",
       "</div>"
      ],
      "text/plain": [
       "   user_id  user_answer  answered_correctly\n",
       "0      115           72                  32\n",
       "1      124           49                   7\n",
       "2     2746           31                  10\n",
       "3     5382          169                  81\n",
       "4     8623          149                  67"
      ]
     },
     "execution_count": 58,
     "metadata": {},
     "output_type": "execute_result"
    }
   ],
   "source": [
    "unique_df = df[['user_id', 'user_answer', 'answered_correctly']].groupby(['user_id'], as_index = False).sum()\n",
    "unique_df.head()\n"
   ]
  },
  {
   "cell_type": "markdown",
   "metadata": {},
   "source": [
    "##### Выведем статистику датафрейма unique_df"
   ]
  },
  {
   "cell_type": "code",
   "execution_count": 59,
   "metadata": {},
   "outputs": [
    {
     "data": {
      "text/html": [
       "<div>\n",
       "<style scoped>\n",
       "    .dataframe tbody tr th:only-of-type {\n",
       "        vertical-align: middle;\n",
       "    }\n",
       "\n",
       "    .dataframe tbody tr th {\n",
       "        vertical-align: top;\n",
       "    }\n",
       "\n",
       "    .dataframe thead th {\n",
       "        text-align: right;\n",
       "    }\n",
       "</style>\n",
       "<table border=\"1\" class=\"dataframe\">\n",
       "  <thead>\n",
       "    <tr style=\"text-align: right;\">\n",
       "      <th></th>\n",
       "      <th>user_id</th>\n",
       "      <th>user_answer</th>\n",
       "      <th>answered_correctly</th>\n",
       "    </tr>\n",
       "  </thead>\n",
       "  <tbody>\n",
       "    <tr>\n",
       "      <th>count</th>\n",
       "      <td>3.824000e+03</td>\n",
       "      <td>3824.000000</td>\n",
       "      <td>3824.000000</td>\n",
       "    </tr>\n",
       "    <tr>\n",
       "      <th>mean</th>\n",
       "      <td>1.050633e+07</td>\n",
       "      <td>359.514644</td>\n",
       "      <td>161.481172</td>\n",
       "    </tr>\n",
       "    <tr>\n",
       "      <th>std</th>\n",
       "      <td>5.958653e+06</td>\n",
       "      <td>984.492304</td>\n",
       "      <td>457.802761</td>\n",
       "    </tr>\n",
       "    <tr>\n",
       "      <th>min</th>\n",
       "      <td>1.150000e+02</td>\n",
       "      <td>1.000000</td>\n",
       "      <td>-2.000000</td>\n",
       "    </tr>\n",
       "    <tr>\n",
       "      <th>25%</th>\n",
       "      <td>5.363199e+06</td>\n",
       "      <td>38.000000</td>\n",
       "      <td>11.000000</td>\n",
       "    </tr>\n",
       "    <tr>\n",
       "      <th>50%</th>\n",
       "      <td>1.061051e+07</td>\n",
       "      <td>60.000000</td>\n",
       "      <td>23.000000</td>\n",
       "    </tr>\n",
       "    <tr>\n",
       "      <th>75%</th>\n",
       "      <td>1.565077e+07</td>\n",
       "      <td>219.000000</td>\n",
       "      <td>94.000000</td>\n",
       "    </tr>\n",
       "    <tr>\n",
       "      <th>max</th>\n",
       "      <td>2.094902e+07</td>\n",
       "      <td>16907.000000</td>\n",
       "      <td>6103.000000</td>\n",
       "    </tr>\n",
       "  </tbody>\n",
       "</table>\n",
       "</div>"
      ],
      "text/plain": [
       "            user_id   user_answer  answered_correctly\n",
       "count  3.824000e+03   3824.000000         3824.000000\n",
       "mean   1.050633e+07    359.514644          161.481172\n",
       "std    5.958653e+06    984.492304          457.802761\n",
       "min    1.150000e+02      1.000000           -2.000000\n",
       "25%    5.363199e+06     38.000000           11.000000\n",
       "50%    1.061051e+07     60.000000           23.000000\n",
       "75%    1.565077e+07    219.000000           94.000000\n",
       "max    2.094902e+07  16907.000000         6103.000000"
      ]
     },
     "execution_count": 59,
     "metadata": {},
     "output_type": "execute_result"
    }
   ],
   "source": [
    "unique_df.describe()"
   ]
  },
  {
   "cell_type": "markdown",
   "metadata": {},
   "source": [
    "##### Создадим функцию которая произведет сокращение разброса количества ответов студентов"
   ]
  },
  {
   "cell_type": "code",
   "execution_count": 60,
   "metadata": {},
   "outputs": [],
   "source": [
    "def rem_emission(df, col, k_std): # задаём функцию сокращения разброса ответов\n",
    "        mean = df[col].mean() # среднее значение переданного столбца col\n",
    "        std_o = df[col].std() # стандартное отклонение переданного столбца col\n",
    "        return df[(df[col] <= mean + (k_std * std_o))]"
   ]
  },
  {
   "cell_type": "markdown",
   "metadata": {},
   "source": [
    "##### Применяем функцию сокращения разброса ответов "
   ]
  },
  {
   "cell_type": "code",
   "execution_count": 61,
   "metadata": {},
   "outputs": [],
   "source": [
    "unique_df = rem_emission(unique_df, 'user_answer', 1) "
   ]
  },
  {
   "cell_type": "markdown",
   "metadata": {},
   "source": [
    "##### Добавляем столбец cor_ratio успеваемости (соотношения кол-ва правильных ответов к общему кол-ву ответов студентов)"
   ]
  },
  {
   "cell_type": "code",
   "execution_count": 62,
   "metadata": {},
   "outputs": [],
   "source": [
    "unique_df['cor_ratio'] = unique_df.answered_correctly / unique_df.user_answer"
   ]
  },
  {
   "cell_type": "markdown",
   "metadata": {},
   "source": [
    "##### А теперь выводим первые 5 и последние 5 строк полученного датафрейма unique_df"
   ]
  },
  {
   "cell_type": "code",
   "execution_count": 63,
   "metadata": {},
   "outputs": [
    {
     "data": {
      "text/html": [
       "<div>\n",
       "<style scoped>\n",
       "    .dataframe tbody tr th:only-of-type {\n",
       "        vertical-align: middle;\n",
       "    }\n",
       "\n",
       "    .dataframe tbody tr th {\n",
       "        vertical-align: top;\n",
       "    }\n",
       "\n",
       "    .dataframe thead th {\n",
       "        text-align: right;\n",
       "    }\n",
       "</style>\n",
       "<table border=\"1\" class=\"dataframe\">\n",
       "  <thead>\n",
       "    <tr style=\"text-align: right;\">\n",
       "      <th></th>\n",
       "      <th>user_id</th>\n",
       "      <th>user_answer</th>\n",
       "      <th>answered_correctly</th>\n",
       "      <th>cor_ratio</th>\n",
       "    </tr>\n",
       "  </thead>\n",
       "  <tbody>\n",
       "    <tr>\n",
       "      <th>0</th>\n",
       "      <td>115</td>\n",
       "      <td>72</td>\n",
       "      <td>32</td>\n",
       "      <td>0.444444</td>\n",
       "    </tr>\n",
       "    <tr>\n",
       "      <th>1</th>\n",
       "      <td>124</td>\n",
       "      <td>49</td>\n",
       "      <td>7</td>\n",
       "      <td>0.142857</td>\n",
       "    </tr>\n",
       "    <tr>\n",
       "      <th>2</th>\n",
       "      <td>2746</td>\n",
       "      <td>31</td>\n",
       "      <td>10</td>\n",
       "      <td>0.322581</td>\n",
       "    </tr>\n",
       "    <tr>\n",
       "      <th>3</th>\n",
       "      <td>5382</td>\n",
       "      <td>169</td>\n",
       "      <td>81</td>\n",
       "      <td>0.479290</td>\n",
       "    </tr>\n",
       "    <tr>\n",
       "      <th>4</th>\n",
       "      <td>8623</td>\n",
       "      <td>149</td>\n",
       "      <td>67</td>\n",
       "      <td>0.449664</td>\n",
       "    </tr>\n",
       "    <tr>\n",
       "      <th>...</th>\n",
       "      <td>...</td>\n",
       "      <td>...</td>\n",
       "      <td>...</td>\n",
       "      <td>...</td>\n",
       "    </tr>\n",
       "    <tr>\n",
       "      <th>3819</th>\n",
       "      <td>20913319</td>\n",
       "      <td>575</td>\n",
       "      <td>233</td>\n",
       "      <td>0.405217</td>\n",
       "    </tr>\n",
       "    <tr>\n",
       "      <th>3820</th>\n",
       "      <td>20913864</td>\n",
       "      <td>20</td>\n",
       "      <td>7</td>\n",
       "      <td>0.350000</td>\n",
       "    </tr>\n",
       "    <tr>\n",
       "      <th>3821</th>\n",
       "      <td>20938253</td>\n",
       "      <td>739</td>\n",
       "      <td>308</td>\n",
       "      <td>0.416779</td>\n",
       "    </tr>\n",
       "    <tr>\n",
       "      <th>3822</th>\n",
       "      <td>20948951</td>\n",
       "      <td>78</td>\n",
       "      <td>31</td>\n",
       "      <td>0.397436</td>\n",
       "    </tr>\n",
       "    <tr>\n",
       "      <th>3823</th>\n",
       "      <td>20949024</td>\n",
       "      <td>71</td>\n",
       "      <td>15</td>\n",
       "      <td>0.211268</td>\n",
       "    </tr>\n",
       "  </tbody>\n",
       "</table>\n",
       "<p>3585 rows × 4 columns</p>\n",
       "</div>"
      ],
      "text/plain": [
       "       user_id  user_answer  answered_correctly  cor_ratio\n",
       "0          115           72                  32   0.444444\n",
       "1          124           49                   7   0.142857\n",
       "2         2746           31                  10   0.322581\n",
       "3         5382          169                  81   0.479290\n",
       "4         8623          149                  67   0.449664\n",
       "...        ...          ...                 ...        ...\n",
       "3819  20913319          575                 233   0.405217\n",
       "3820  20913864           20                   7   0.350000\n",
       "3821  20938253          739                 308   0.416779\n",
       "3822  20948951           78                  31   0.397436\n",
       "3823  20949024           71                  15   0.211268\n",
       "\n",
       "[3585 rows x 4 columns]"
      ]
     },
     "execution_count": 63,
     "metadata": {},
     "output_type": "execute_result"
    }
   ],
   "source": [
    "unique_df"
   ]
  },
  {
   "cell_type": "markdown",
   "metadata": {},
   "source": [
    "##### Выведем обновленную статистику датафрейма unique_df при помощи метода .describe"
   ]
  },
  {
   "cell_type": "code",
   "execution_count": 64,
   "metadata": {},
   "outputs": [
    {
     "data": {
      "text/html": [
       "<div>\n",
       "<style scoped>\n",
       "    .dataframe tbody tr th:only-of-type {\n",
       "        vertical-align: middle;\n",
       "    }\n",
       "\n",
       "    .dataframe tbody tr th {\n",
       "        vertical-align: top;\n",
       "    }\n",
       "\n",
       "    .dataframe thead th {\n",
       "        text-align: right;\n",
       "    }\n",
       "</style>\n",
       "<table border=\"1\" class=\"dataframe\">\n",
       "  <thead>\n",
       "    <tr style=\"text-align: right;\">\n",
       "      <th></th>\n",
       "      <th>user_id</th>\n",
       "      <th>user_answer</th>\n",
       "      <th>answered_correctly</th>\n",
       "      <th>cor_ratio</th>\n",
       "    </tr>\n",
       "  </thead>\n",
       "  <tbody>\n",
       "    <tr>\n",
       "      <th>count</th>\n",
       "      <td>3.585000e+03</td>\n",
       "      <td>3585.000000</td>\n",
       "      <td>3585.000000</td>\n",
       "      <td>3585.000000</td>\n",
       "    </tr>\n",
       "    <tr>\n",
       "      <th>mean</th>\n",
       "      <td>1.052197e+07</td>\n",
       "      <td>159.402789</td>\n",
       "      <td>68.483682</td>\n",
       "      <td>0.383755</td>\n",
       "    </tr>\n",
       "    <tr>\n",
       "      <th>std</th>\n",
       "      <td>5.961041e+06</td>\n",
       "      <td>238.836485</td>\n",
       "      <td>111.890436</td>\n",
       "      <td>0.131749</td>\n",
       "    </tr>\n",
       "    <tr>\n",
       "      <th>min</th>\n",
       "      <td>1.150000e+02</td>\n",
       "      <td>1.000000</td>\n",
       "      <td>-2.000000</td>\n",
       "      <td>-0.017241</td>\n",
       "    </tr>\n",
       "    <tr>\n",
       "      <th>25%</th>\n",
       "      <td>5.386918e+06</td>\n",
       "      <td>36.000000</td>\n",
       "      <td>11.000000</td>\n",
       "      <td>0.293103</td>\n",
       "    </tr>\n",
       "    <tr>\n",
       "      <th>50%</th>\n",
       "      <td>1.062930e+07</td>\n",
       "      <td>55.000000</td>\n",
       "      <td>21.000000</td>\n",
       "      <td>0.392857</td>\n",
       "    </tr>\n",
       "    <tr>\n",
       "      <th>75%</th>\n",
       "      <td>1.568217e+07</td>\n",
       "      <td>151.000000</td>\n",
       "      <td>66.000000</td>\n",
       "      <td>0.472603</td>\n",
       "    </tr>\n",
       "    <tr>\n",
       "      <th>max</th>\n",
       "      <td>2.094902e+07</td>\n",
       "      <td>1335.000000</td>\n",
       "      <td>759.000000</td>\n",
       "      <td>1.500000</td>\n",
       "    </tr>\n",
       "  </tbody>\n",
       "</table>\n",
       "</div>"
      ],
      "text/plain": [
       "            user_id  user_answer  answered_correctly    cor_ratio\n",
       "count  3.585000e+03  3585.000000         3585.000000  3585.000000\n",
       "mean   1.052197e+07   159.402789           68.483682     0.383755\n",
       "std    5.961041e+06   238.836485          111.890436     0.131749\n",
       "min    1.150000e+02     1.000000           -2.000000    -0.017241\n",
       "25%    5.386918e+06    36.000000           11.000000     0.293103\n",
       "50%    1.062930e+07    55.000000           21.000000     0.392857\n",
       "75%    1.568217e+07   151.000000           66.000000     0.472603\n",
       "max    2.094902e+07  1335.000000          759.000000     1.500000"
      ]
     },
     "execution_count": 64,
     "metadata": {},
     "output_type": "execute_result"
    }
   ],
   "source": [
    "unique_df.describe()"
   ]
  },
  {
   "cell_type": "markdown",
   "metadata": {},
   "source": [
    "### Вычисляем медианное значение количества ответов студентов"
   ]
  },
  {
   "cell_type": "code",
   "execution_count": 66,
   "metadata": {},
   "outputs": [
    {
     "name": "stdout",
     "output_type": "stream",
     "text": [
      "Медианное значение количества ответов студентов равняется 55\n"
     ]
    }
   ],
   "source": [
    "unique_med = unique_df.user_answer.median()\n",
    "print('Медианное значение количества ответов студентов равняется', int(unique_med))"
   ]
  },
  {
   "cell_type": "markdown",
   "metadata": {},
   "source": [
    "### Визуализируем данные о количестве ответов студентов"
   ]
  },
  {
   "cell_type": "code",
   "execution_count": 67,
   "metadata": {},
   "outputs": [
    {
     "data": {
      "text/plain": [
       "<AxesSubplot: xlabel='user_answer', ylabel='Count'>"
      ]
     },
     "execution_count": 67,
     "metadata": {},
     "output_type": "execute_result"
    },
    {
     "data": {
      "image/png": "[encoded data removed]",
      "text/plain": [
       "<Figure size 640x480 with 1 Axes>"
      ]
     },
     "metadata": {},
     "output_type": "display_data"
    }
   ],
   "source": [
    "sns.histplot(data = unique_df, x = 'user_answer')"
   ]
  },
  {
   "cell_type": "markdown",
   "metadata": {},
   "source": [
    "##### И видим заметный перекос в интервале от 0 до 100"
   ]
  },
  {
   "cell_type": "markdown",
   "metadata": {},
   "source": [
    "### Выведем распределение количества ответов студентов, которое больше медианного"
   ]
  },
  {
   "cell_type": "code",
   "execution_count": 68,
   "metadata": {},
   "outputs": [
    {
     "name": "stdout",
     "output_type": "stream",
     "text": [
      "0.42857142857142855\n"
     ]
    },
    {
     "data": {
      "text/plain": [
       "<AxesSubplot: >"
      ]
     },
     "execution_count": 68,
     "metadata": {},
     "output_type": "execute_result"
    },
    {
     "data": {
      "image/png": "[encoded data removed]",
      "text/plain": [
       "<Figure size 640x480 with 1 Axes>"
      ]
     },
     "metadata": {},
     "output_type": "display_data"
    }
   ],
   "source": [
    "print(unique_df.query('user_answer > 55')['cor_ratio'].median())\n",
    "unique_df.query('user_answer > 55')['cor_ratio'].hist(bins = 50, color = 'blue')"
   ]
  },
  {
   "cell_type": "markdown",
   "metadata": {},
   "source": [
    "### Выведем распределение количества ответов студентов, которое которое больше 75%"
   ]
  },
  {
   "cell_type": "code",
   "execution_count": 69,
   "metadata": {},
   "outputs": [
    {
     "name": "stdout",
     "output_type": "stream",
     "text": [
      "0.4507042253521127\n"
     ]
    },
    {
     "data": {
      "text/plain": [
       "<AxesSubplot: >"
      ]
     },
     "execution_count": 69,
     "metadata": {},
     "output_type": "execute_result"
    },
    {
     "data": {
      "image/png": "[encoded data removed]",
      "text/plain": [
       "<Figure size 640x480 with 1 Axes>"
      ]
     },
     "metadata": {},
     "output_type": "display_data"
    }
   ],
   "source": [
    "print(unique_df.query('user_answer > 151')['cor_ratio'].median())\n",
    "unique_df.query('user_answer > 151')['cor_ratio'].hist(bins = 50, color = 'brown')"
   ]
  },
  {
   "cell_type": "markdown",
   "metadata": {},
   "source": [
    "### Выведем распределение количества ответов студентов, которое больше 500"
   ]
  },
  {
   "cell_type": "code",
   "execution_count": 70,
   "metadata": {},
   "outputs": [
    {
     "name": "stdout",
     "output_type": "stream",
     "text": [
      "0.4578313253012048\n"
     ]
    },
    {
     "data": {
      "text/plain": [
       "<AxesSubplot: >"
      ]
     },
     "execution_count": 70,
     "metadata": {},
     "output_type": "execute_result"
    },
    {
     "data": {
      "image/png": "[encoded data removed]",
      "text/plain": [
       "<Figure size 640x480 with 1 Axes>"
      ]
     },
     "metadata": {},
     "output_type": "display_data"
    }
   ],
   "source": [
    "print(unique_df.query('user_answer > 500')['cor_ratio'].median())\n",
    "unique_df.query('user_answer > 500')['cor_ratio'].hist(bins = 50, color = 'purple')"
   ]
  },
  {
   "cell_type": "code",
   "execution_count": 71,
   "metadata": {},
   "outputs": [
    {
     "name": "stdout",
     "output_type": "stream",
     "text": [
      "0.42436974789915966\n"
     ]
    },
    {
     "data": {
      "text/plain": [
       "<AxesSubplot: >"
      ]
     },
     "execution_count": 71,
     "metadata": {},
     "output_type": "execute_result"
    },
    {
     "data": {
      "image/png": "[encoded data removed]",
      "text/plain": [
       "<Figure size 640x480 with 1 Axes>"
      ]
     },
     "metadata": {},
     "output_type": "display_data"
    }
   ],
   "source": [
    "print(unique_df.query('0 < user_answer > 50')['cor_ratio'].median())\n",
    "unique_df.query('0 < user_answer > 50')['cor_ratio'].hist(bins = 50, color = 'lightblue')"
   ]
  },
  {
   "cell_type": "markdown",
   "metadata": {},
   "source": [
    "#### По вышепредставленным графикам видно, что студенты, ответившие на меньше медианного значения, справлялись хуже тех, кто ответил больше медианного значения. При этом количество ответов которое выше медианного значения незначительно сказалось на качестве, то есть на числе правильных ответов."
   ]
  },
  {
   "cell_type": "markdown",
   "metadata": {},
   "source": [
    "## Поищем взаимосвязь времени между взаимодействием со студентом и завершением первого события от него, среднего времени ответа на каждый вопрос и количества правильных ответов с общим количеством ответов студентов"
   ]
  },
  {
   "cell_type": "markdown",
   "metadata": {},
   "source": [
    "##### Группируем общее кол-во ответов, кол-во правильных ответов и время ответа на каждый вопрос студентов по их идентификаторам в датафрейм corr_look"
   ]
  },
  {
   "cell_type": "code",
   "execution_count": 72,
   "metadata": {},
   "outputs": [],
   "source": [
    "corr_look = df[['user_id', 'user_answer', 'answered_correctly', 'timestamp', \\\n",
    "    'prior_question_elapsed_time']].groupby(['user_id'], as_index = False).sum()"
   ]
  },
  {
   "cell_type": "markdown",
   "metadata": {},
   "source": [
    "#### Добавляем столбец timestamp_ratio соотношения времени между взаимодействием со студентом и завершением первого события от него к общему кол-ву ответов студентов"
   ]
  },
  {
   "cell_type": "code",
   "execution_count": 73,
   "metadata": {},
   "outputs": [],
   "source": [
    "corr_look['timestamp_ratio'] = corr_look['timestamp'] / corr_look['user_answer']"
   ]
  },
  {
   "cell_type": "markdown",
   "metadata": {},
   "source": [
    "##### Добавляем столбец elapsed_time_ratio соотношения среднего времени ответа на каждый вопрос к общему кол-ву ответов студентов"
   ]
  },
  {
   "cell_type": "code",
   "execution_count": 74,
   "metadata": {},
   "outputs": [],
   "source": [
    "corr_look['elapsed_time_ratio'] = corr_look['prior_question_elapsed_time'] / corr_look['user_answer']"
   ]
  },
  {
   "cell_type": "markdown",
   "metadata": {},
   "source": [
    "##### Добавляем столбец cor_ratio успеваемости (соотношения кол-ва правильных ответов к общему кол-ву ответов студентов)"
   ]
  },
  {
   "cell_type": "code",
   "execution_count": 75,
   "metadata": {},
   "outputs": [],
   "source": [
    "corr_look['cor_ratio'] = corr_look.answered_correctly / corr_look.user_answer"
   ]
  },
  {
   "cell_type": "markdown",
   "metadata": {},
   "source": [
    "#### Удаляем ненужные столбцы"
   ]
  },
  {
   "cell_type": "code",
   "execution_count": 76,
   "metadata": {},
   "outputs": [],
   "source": [
    "corr_look.drop(corr_look.columns[[0, 2, 3, 4]], axis = 1, inplace = True)"
   ]
  },
  {
   "cell_type": "markdown",
   "metadata": {},
   "source": [
    "##### Вызываем функцию сокращения разброса ответов"
   ]
  },
  {
   "cell_type": "code",
   "execution_count": 77,
   "metadata": {},
   "outputs": [],
   "source": [
    "corr_look = rem_emission(corr_look, 'user_answer', 1)"
   ]
  },
  {
   "cell_type": "markdown",
   "metadata": {},
   "source": [
    "##### Проверяем произведенную работу функции и выводим выводим первые 5 и последние 5 строк полученного датафрейма corr_look"
   ]
  },
  {
   "cell_type": "code",
   "execution_count": 78,
   "metadata": {},
   "outputs": [
    {
     "data": {
      "text/html": [
       "<div>\n",
       "<style scoped>\n",
       "    .dataframe tbody tr th:only-of-type {\n",
       "        vertical-align: middle;\n",
       "    }\n",
       "\n",
       "    .dataframe tbody tr th {\n",
       "        vertical-align: top;\n",
       "    }\n",
       "\n",
       "    .dataframe thead th {\n",
       "        text-align: right;\n",
       "    }\n",
       "</style>\n",
       "<table border=\"1\" class=\"dataframe\">\n",
       "  <thead>\n",
       "    <tr style=\"text-align: right;\">\n",
       "      <th></th>\n",
       "      <th>user_answer</th>\n",
       "      <th>timestamp_ratio</th>\n",
       "      <th>elapsed_time_ratio</th>\n",
       "      <th>cor_ratio</th>\n",
       "    </tr>\n",
       "  </thead>\n",
       "  <tbody>\n",
       "    <tr>\n",
       "      <th>0</th>\n",
       "      <td>72</td>\n",
       "      <td>6.524638e+07</td>\n",
       "      <td>12458.319444</td>\n",
       "      <td>0.444444</td>\n",
       "    </tr>\n",
       "    <tr>\n",
       "      <th>1</th>\n",
       "      <td>49</td>\n",
       "      <td>2.252203e+05</td>\n",
       "      <td>11122.387755</td>\n",
       "      <td>0.142857</td>\n",
       "    </tr>\n",
       "    <tr>\n",
       "      <th>2</th>\n",
       "      <td>31</td>\n",
       "      <td>2.472123e+05</td>\n",
       "      <td>10483.870968</td>\n",
       "      <td>0.322581</td>\n",
       "    </tr>\n",
       "    <tr>\n",
       "      <th>3</th>\n",
       "      <td>169</td>\n",
       "      <td>2.879101e+08</td>\n",
       "      <td>26449.704142</td>\n",
       "      <td>0.479290</td>\n",
       "    </tr>\n",
       "    <tr>\n",
       "      <th>4</th>\n",
       "      <td>149</td>\n",
       "      <td>2.615750e+08</td>\n",
       "      <td>18923.489933</td>\n",
       "      <td>0.449664</td>\n",
       "    </tr>\n",
       "    <tr>\n",
       "      <th>...</th>\n",
       "      <td>...</td>\n",
       "      <td>...</td>\n",
       "      <td>...</td>\n",
       "      <td>...</td>\n",
       "    </tr>\n",
       "    <tr>\n",
       "      <th>3819</th>\n",
       "      <td>575</td>\n",
       "      <td>7.238333e+08</td>\n",
       "      <td>19102.003478</td>\n",
       "      <td>0.405217</td>\n",
       "    </tr>\n",
       "    <tr>\n",
       "      <th>3820</th>\n",
       "      <td>20</td>\n",
       "      <td>3.388405e+05</td>\n",
       "      <td>18200.000000</td>\n",
       "      <td>0.350000</td>\n",
       "    </tr>\n",
       "    <tr>\n",
       "      <th>3821</th>\n",
       "      <td>739</td>\n",
       "      <td>1.787103e+08</td>\n",
       "      <td>16015.966171</td>\n",
       "      <td>0.416779</td>\n",
       "    </tr>\n",
       "    <tr>\n",
       "      <th>3822</th>\n",
       "      <td>78</td>\n",
       "      <td>1.462367e+09</td>\n",
       "      <td>12730.769231</td>\n",
       "      <td>0.397436</td>\n",
       "    </tr>\n",
       "    <tr>\n",
       "      <th>3823</th>\n",
       "      <td>71</td>\n",
       "      <td>7.114120e+06</td>\n",
       "      <td>21684.225352</td>\n",
       "      <td>0.211268</td>\n",
       "    </tr>\n",
       "  </tbody>\n",
       "</table>\n",
       "<p>3585 rows × 4 columns</p>\n",
       "</div>"
      ],
      "text/plain": [
       "      user_answer  timestamp_ratio  elapsed_time_ratio  cor_ratio\n",
       "0              72     6.524638e+07        12458.319444   0.444444\n",
       "1              49     2.252203e+05        11122.387755   0.142857\n",
       "2              31     2.472123e+05        10483.870968   0.322581\n",
       "3             169     2.879101e+08        26449.704142   0.479290\n",
       "4             149     2.615750e+08        18923.489933   0.449664\n",
       "...           ...              ...                 ...        ...\n",
       "3819          575     7.238333e+08        19102.003478   0.405217\n",
       "3820           20     3.388405e+05        18200.000000   0.350000\n",
       "3821          739     1.787103e+08        16015.966171   0.416779\n",
       "3822           78     1.462367e+09        12730.769231   0.397436\n",
       "3823           71     7.114120e+06        21684.225352   0.211268\n",
       "\n",
       "[3585 rows x 4 columns]"
      ]
     },
     "execution_count": 78,
     "metadata": {},
     "output_type": "execute_result"
    }
   ],
   "source": [
    "corr_look "
   ]
  },
  {
   "cell_type": "code",
   "execution_count": 79,
   "metadata": {},
   "outputs": [
    {
     "data": {
      "text/plain": [
       "<AxesSubplot: xlabel='user_answer', ylabel='timestamp_ratio'>"
      ]
     },
     "execution_count": 79,
     "metadata": {},
     "output_type": "execute_result"
    },
    {
     "data": {
      "image/png": "[encoded data removed]",
      "text/plain": [
       "<Figure size 640x480 with 1 Axes>"
      ]
     },
     "metadata": {},
     "output_type": "display_data"
    }
   ],
   "source": [
    "sns.regplot(data = corr_look, x = 'user_answer', y = 'timestamp_ratio', color = 'purple')"
   ]
  },
  {
   "cell_type": "code",
   "execution_count": 80,
   "metadata": {},
   "outputs": [
    {
     "data": {
      "text/plain": [
       "<AxesSubplot: xlabel='user_answer', ylabel='elapsed_time_ratio'>"
      ]
     },
     "execution_count": 80,
     "metadata": {},
     "output_type": "execute_result"
    },
    {
     "data": {
      "image/png": "[encoded data removed]",
      "text/plain": [
       "<Figure size 640x480 with 1 Axes>"
      ]
     },
     "metadata": {},
     "output_type": "display_data"
    }
   ],
   "source": [
    "sns.regplot(data = corr_look, x = 'user_answer', y = 'elapsed_time_ratio', color = 'blue')"
   ]
  },
  {
   "cell_type": "code",
   "execution_count": 81,
   "metadata": {},
   "outputs": [
    {
     "data": {
      "text/plain": [
       "<AxesSubplot: xlabel='timestamp_ratio', ylabel='cor_ratio'>"
      ]
     },
     "execution_count": 81,
     "metadata": {},
     "output_type": "execute_result"
    },
    {
     "data": {
      "image/png": "[encoded data removed]",
      "text/plain": [
       "<Figure size 640x480 with 1 Axes>"
      ]
     },
     "metadata": {},
     "output_type": "display_data"
    }
   ],
   "source": [
    "sns.regplot(data = corr_look, x = 'timestamp_ratio', y = 'cor_ratio', color = 'brown')"
   ]
  },
  {
   "cell_type": "code",
   "execution_count": 82,
   "metadata": {},
   "outputs": [
    {
     "data": {
      "text/plain": [
       "<AxesSubplot: xlabel='elapsed_time_ratio', ylabel='cor_ratio'>"
      ]
     },
     "execution_count": 82,
     "metadata": {},
     "output_type": "execute_result"
    },
    {
     "data": {
      "image/png": "[encoded data removed]",
      "text/plain": [
       "<Figure size 640x480 with 1 Axes>"
      ]
     },
     "metadata": {},
     "output_type": "display_data"
    }
   ],
   "source": [
    "sns.regplot(data = corr_look, x = 'elapsed_time_ratio', y = 'cor_ratio', color = 'green')"
   ]
  },
  {
   "cell_type": "markdown",
   "metadata": {},
   "source": [
    "## Подведем краткий итог, на успеваемость студентов влияют следующие характеристики:\n",
    "- количество ответов студентов, большее медианного значения количества ответов, равного 55\n",
    "- типа контента (вопрос или лекция) - очень слабо\n",
    "- соотношения количества правильных ответов и среднего времени ответа на каждый вопрос к общему количеству ответов студентов - слабо\n"
   ]
  }
 ],
 "metadata": {
  "kernelspec": {
   "display_name": "Python 3",
   "language": "python",
   "name": "python3"
  },
  "language_info": {
   "codemirror_mode": {
    "name": "ipython",
    "version": 3
   },
   "file_extension": ".py",
   "mimetype": "text/x-python",
   "name": "python",
   "nbconvert_exporter": "python",
   "pygments_lexer": "ipython3",
   "version": "3.10.8 (tags/v3.10.8:aaaf517, Oct 11 2022, 16:50:30) [MSC v.1933 64 bit (AMD64)]"
  },
  "orig_nbformat": 4,
  "vscode": {
   "interpreter": {
    "hash": "256290e5d779d098235c7da0da63243dc5a2d137c006ed76deee9b7ada065117"
   }
  }
 },
 "nbformat": 4,
 "nbformat_minor": 2
}
